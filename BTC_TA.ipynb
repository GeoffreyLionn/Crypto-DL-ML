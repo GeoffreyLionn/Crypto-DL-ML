{
 "cells": [
  {
   "cell_type": "code",
   "execution_count": 1,
   "id": "3f4e7b18-a61e-4fd8-aaa3-b26147efe7db",
   "metadata": {},
   "outputs": [],
   "source": [
    "import numpy as np\n",
    "import pandas as pd\n",
    "import talib\n",
    "from warnings import simplefilter\n",
    "simplefilter(action=\"ignore\", category=pd.errors.PerformanceWarning)"
   ]
  },
  {
   "cell_type": "code",
   "execution_count": 2,
   "id": "155c9c4e-4272-4cd6-9c1e-a59d2e92a3cc",
   "metadata": {},
   "outputs": [],
   "source": [
    "df = pd.read_csv('bitstampUSD.csv.gz', header = None)\n",
    "df.columns = ['datetime', 'price', 'volume']\n",
    "df['datetime'] = pd.to_datetime(df['datetime'], unit = 's')\n",
    "\n",
    "df = df[df['volume'] > 0]\n",
    "\n",
    "df['turnover'] = df['price'] * df['volume']\n",
    "\n",
    "data = df.groupby(df['datetime'].dt.floor('d')).agg({'price': ['first', 'max', 'min', 'last'], 'volume': 'sum', 'turnover': 'sum'}).reset_index()\n",
    "data.columns = ['Datetime', 'Open', 'High', 'Low', 'Close', 'Volume', 'Turnover']"
   ]
  },
  {
   "cell_type": "code",
   "execution_count": 3,
   "id": "99201683-52c4-464e-87cb-2c2857b26945",
   "metadata": {},
   "outputs": [
    {
     "data": {
      "text/html": [
       "<div>\n",
       "<style scoped>\n",
       "    .dataframe tbody tr th:only-of-type {\n",
       "        vertical-align: middle;\n",
       "    }\n",
       "\n",
       "    .dataframe tbody tr th {\n",
       "        vertical-align: top;\n",
       "    }\n",
       "\n",
       "    .dataframe thead th {\n",
       "        text-align: right;\n",
       "    }\n",
       "</style>\n",
       "<table border=\"1\" class=\"dataframe\">\n",
       "  <thead>\n",
       "    <tr style=\"text-align: right;\">\n",
       "      <th></th>\n",
       "      <th>Datetime</th>\n",
       "      <th>Open</th>\n",
       "      <th>High</th>\n",
       "      <th>Low</th>\n",
       "      <th>Close</th>\n",
       "      <th>Volume</th>\n",
       "      <th>Turnover</th>\n",
       "    </tr>\n",
       "  </thead>\n",
       "  <tbody>\n",
       "    <tr>\n",
       "      <th>4532</th>\n",
       "      <td>2024-03-01</td>\n",
       "      <td>61161.0</td>\n",
       "      <td>63265.0</td>\n",
       "      <td>60801.0</td>\n",
       "      <td>62444.0</td>\n",
       "      <td>2116.106829</td>\n",
       "      <td>1.314035e+08</td>\n",
       "    </tr>\n",
       "    <tr>\n",
       "      <th>4533</th>\n",
       "      <td>2024-03-02</td>\n",
       "      <td>62433.0</td>\n",
       "      <td>62488.0</td>\n",
       "      <td>61645.0</td>\n",
       "      <td>62042.0</td>\n",
       "      <td>856.261226</td>\n",
       "      <td>5.311099e+07</td>\n",
       "    </tr>\n",
       "    <tr>\n",
       "      <th>4534</th>\n",
       "      <td>2024-03-03</td>\n",
       "      <td>62034.0</td>\n",
       "      <td>63249.0</td>\n",
       "      <td>61402.0</td>\n",
       "      <td>63142.0</td>\n",
       "      <td>1242.892730</td>\n",
       "      <td>7.766709e+07</td>\n",
       "    </tr>\n",
       "    <tr>\n",
       "      <th>4535</th>\n",
       "      <td>2024-03-04</td>\n",
       "      <td>63140.0</td>\n",
       "      <td>68577.0</td>\n",
       "      <td>62376.0</td>\n",
       "      <td>68359.0</td>\n",
       "      <td>4423.236102</td>\n",
       "      <td>2.918021e+08</td>\n",
       "    </tr>\n",
       "    <tr>\n",
       "      <th>4536</th>\n",
       "      <td>2024-03-05</td>\n",
       "      <td>68359.0</td>\n",
       "      <td>69210.0</td>\n",
       "      <td>59313.0</td>\n",
       "      <td>63796.0</td>\n",
       "      <td>7391.454192</td>\n",
       "      <td>4.806942e+08</td>\n",
       "    </tr>\n",
       "    <tr>\n",
       "      <th>4537</th>\n",
       "      <td>2024-03-06</td>\n",
       "      <td>63815.0</td>\n",
       "      <td>67645.0</td>\n",
       "      <td>62843.0</td>\n",
       "      <td>66120.0</td>\n",
       "      <td>4235.328116</td>\n",
       "      <td>2.808652e+08</td>\n",
       "    </tr>\n",
       "    <tr>\n",
       "      <th>4538</th>\n",
       "      <td>2024-03-07</td>\n",
       "      <td>66124.0</td>\n",
       "      <td>68061.0</td>\n",
       "      <td>65623.0</td>\n",
       "      <td>66941.0</td>\n",
       "      <td>3354.920167</td>\n",
       "      <td>2.254188e+08</td>\n",
       "    </tr>\n",
       "    <tr>\n",
       "      <th>4539</th>\n",
       "      <td>2024-03-08</td>\n",
       "      <td>66928.0</td>\n",
       "      <td>70184.0</td>\n",
       "      <td>66264.0</td>\n",
       "      <td>68285.0</td>\n",
       "      <td>4423.057350</td>\n",
       "      <td>3.017462e+08</td>\n",
       "    </tr>\n",
       "    <tr>\n",
       "      <th>4540</th>\n",
       "      <td>2024-03-09</td>\n",
       "      <td>68285.0</td>\n",
       "      <td>68685.0</td>\n",
       "      <td>68050.0</td>\n",
       "      <td>68463.0</td>\n",
       "      <td>856.107322</td>\n",
       "      <td>5.855178e+07</td>\n",
       "    </tr>\n",
       "    <tr>\n",
       "      <th>4541</th>\n",
       "      <td>2024-03-10</td>\n",
       "      <td>68464.0</td>\n",
       "      <td>69999.0</td>\n",
       "      <td>68196.0</td>\n",
       "      <td>69026.0</td>\n",
       "      <td>1987.109438</td>\n",
       "      <td>1.376180e+08</td>\n",
       "    </tr>\n",
       "    <tr>\n",
       "      <th>4542</th>\n",
       "      <td>2024-03-11</td>\n",
       "      <td>69013.0</td>\n",
       "      <td>72910.0</td>\n",
       "      <td>67120.0</td>\n",
       "      <td>72118.0</td>\n",
       "      <td>5028.350318</td>\n",
       "      <td>3.588209e+08</td>\n",
       "    </tr>\n",
       "    <tr>\n",
       "      <th>4543</th>\n",
       "      <td>2024-03-12</td>\n",
       "      <td>72105.0</td>\n",
       "      <td>73054.0</td>\n",
       "      <td>68636.0</td>\n",
       "      <td>71473.0</td>\n",
       "      <td>4051.758551</td>\n",
       "      <td>2.887906e+08</td>\n",
       "    </tr>\n",
       "    <tr>\n",
       "      <th>4544</th>\n",
       "      <td>2024-03-13</td>\n",
       "      <td>71473.0</td>\n",
       "      <td>73679.0</td>\n",
       "      <td>71340.0</td>\n",
       "      <td>73121.0</td>\n",
       "      <td>3647.592072</td>\n",
       "      <td>2.659118e+08</td>\n",
       "    </tr>\n",
       "    <tr>\n",
       "      <th>4545</th>\n",
       "      <td>2024-03-14</td>\n",
       "      <td>73130.0</td>\n",
       "      <td>73794.0</td>\n",
       "      <td>68555.0</td>\n",
       "      <td>71371.0</td>\n",
       "      <td>4144.375046</td>\n",
       "      <td>2.954094e+08</td>\n",
       "    </tr>\n",
       "    <tr>\n",
       "      <th>4546</th>\n",
       "      <td>2024-03-15</td>\n",
       "      <td>71387.0</td>\n",
       "      <td>72415.0</td>\n",
       "      <td>65569.0</td>\n",
       "      <td>69516.0</td>\n",
       "      <td>4952.410098</td>\n",
       "      <td>3.381071e+08</td>\n",
       "    </tr>\n",
       "    <tr>\n",
       "      <th>4547</th>\n",
       "      <td>2024-03-16</td>\n",
       "      <td>69505.0</td>\n",
       "      <td>70069.0</td>\n",
       "      <td>64780.0</td>\n",
       "      <td>65248.0</td>\n",
       "      <td>2215.164964</td>\n",
       "      <td>1.490979e+08</td>\n",
       "    </tr>\n",
       "    <tr>\n",
       "      <th>4548</th>\n",
       "      <td>2024-03-17</td>\n",
       "      <td>65245.0</td>\n",
       "      <td>68867.0</td>\n",
       "      <td>64522.0</td>\n",
       "      <td>68352.0</td>\n",
       "      <td>2040.410281</td>\n",
       "      <td>1.359786e+08</td>\n",
       "    </tr>\n",
       "    <tr>\n",
       "      <th>4549</th>\n",
       "      <td>2024-03-18</td>\n",
       "      <td>68344.0</td>\n",
       "      <td>68902.0</td>\n",
       "      <td>66585.0</td>\n",
       "      <td>67613.0</td>\n",
       "      <td>2891.668168</td>\n",
       "      <td>1.953904e+08</td>\n",
       "    </tr>\n",
       "    <tr>\n",
       "      <th>4550</th>\n",
       "      <td>2024-03-19</td>\n",
       "      <td>67603.0</td>\n",
       "      <td>68123.0</td>\n",
       "      <td>61447.0</td>\n",
       "      <td>61897.0</td>\n",
       "      <td>5318.125758</td>\n",
       "      <td>3.412483e+08</td>\n",
       "    </tr>\n",
       "    <tr>\n",
       "      <th>4551</th>\n",
       "      <td>2024-03-20</td>\n",
       "      <td>61919.0</td>\n",
       "      <td>68168.0</td>\n",
       "      <td>60760.0</td>\n",
       "      <td>67872.0</td>\n",
       "      <td>4989.904592</td>\n",
       "      <td>3.182333e+08</td>\n",
       "    </tr>\n",
       "    <tr>\n",
       "      <th>4552</th>\n",
       "      <td>2024-03-21</td>\n",
       "      <td>67842.0</td>\n",
       "      <td>68249.0</td>\n",
       "      <td>64537.0</td>\n",
       "      <td>65485.0</td>\n",
       "      <td>2935.804493</td>\n",
       "      <td>1.946797e+08</td>\n",
       "    </tr>\n",
       "    <tr>\n",
       "      <th>4553</th>\n",
       "      <td>2024-03-22</td>\n",
       "      <td>65477.0</td>\n",
       "      <td>66631.0</td>\n",
       "      <td>62332.0</td>\n",
       "      <td>63807.0</td>\n",
       "      <td>2420.558362</td>\n",
       "      <td>1.556475e+08</td>\n",
       "    </tr>\n",
       "    <tr>\n",
       "      <th>4554</th>\n",
       "      <td>2024-03-23</td>\n",
       "      <td>63812.0</td>\n",
       "      <td>66027.0</td>\n",
       "      <td>63016.0</td>\n",
       "      <td>64001.0</td>\n",
       "      <td>1252.513577</td>\n",
       "      <td>8.089207e+07</td>\n",
       "    </tr>\n",
       "    <tr>\n",
       "      <th>4555</th>\n",
       "      <td>2024-03-24</td>\n",
       "      <td>64007.0</td>\n",
       "      <td>67613.0</td>\n",
       "      <td>63807.0</td>\n",
       "      <td>67188.0</td>\n",
       "      <td>1391.935057</td>\n",
       "      <td>9.106447e+07</td>\n",
       "    </tr>\n",
       "    <tr>\n",
       "      <th>4556</th>\n",
       "      <td>2024-03-25</td>\n",
       "      <td>67208.0</td>\n",
       "      <td>71213.0</td>\n",
       "      <td>66407.0</td>\n",
       "      <td>69898.0</td>\n",
       "      <td>3049.191686</td>\n",
       "      <td>2.105153e+08</td>\n",
       "    </tr>\n",
       "    <tr>\n",
       "      <th>4557</th>\n",
       "      <td>2024-03-26</td>\n",
       "      <td>69889.0</td>\n",
       "      <td>71572.0</td>\n",
       "      <td>69257.0</td>\n",
       "      <td>69997.0</td>\n",
       "      <td>2479.947993</td>\n",
       "      <td>1.742095e+08</td>\n",
       "    </tr>\n",
       "    <tr>\n",
       "      <th>4558</th>\n",
       "      <td>2024-03-27</td>\n",
       "      <td>69999.0</td>\n",
       "      <td>71754.0</td>\n",
       "      <td>68362.0</td>\n",
       "      <td>69421.0</td>\n",
       "      <td>2306.370230</td>\n",
       "      <td>1.610145e+08</td>\n",
       "    </tr>\n",
       "    <tr>\n",
       "      <th>4559</th>\n",
       "      <td>2024-03-28</td>\n",
       "      <td>69406.0</td>\n",
       "      <td>71587.0</td>\n",
       "      <td>68863.0</td>\n",
       "      <td>70803.0</td>\n",
       "      <td>2146.149296</td>\n",
       "      <td>1.515361e+08</td>\n",
       "    </tr>\n",
       "    <tr>\n",
       "      <th>4560</th>\n",
       "      <td>2024-03-29</td>\n",
       "      <td>70769.0</td>\n",
       "      <td>70929.0</td>\n",
       "      <td>69073.0</td>\n",
       "      <td>69903.0</td>\n",
       "      <td>1131.132708</td>\n",
       "      <td>7.908740e+07</td>\n",
       "    </tr>\n",
       "    <tr>\n",
       "      <th>4561</th>\n",
       "      <td>2024-03-30</td>\n",
       "      <td>69934.0</td>\n",
       "      <td>70344.0</td>\n",
       "      <td>69586.0</td>\n",
       "      <td>69613.0</td>\n",
       "      <td>589.840932</td>\n",
       "      <td>4.129605e+07</td>\n",
       "    </tr>\n",
       "    <tr>\n",
       "      <th>4562</th>\n",
       "      <td>2024-03-31</td>\n",
       "      <td>69616.0</td>\n",
       "      <td>71391.0</td>\n",
       "      <td>69594.0</td>\n",
       "      <td>71285.0</td>\n",
       "      <td>857.979670</td>\n",
       "      <td>6.057837e+07</td>\n",
       "    </tr>\n",
       "  </tbody>\n",
       "</table>\n",
       "</div>"
      ],
      "text/plain": [
       "       Datetime     Open     High      Low    Close       Volume      Turnover\n",
       "4532 2024-03-01  61161.0  63265.0  60801.0  62444.0  2116.106829  1.314035e+08\n",
       "4533 2024-03-02  62433.0  62488.0  61645.0  62042.0   856.261226  5.311099e+07\n",
       "4534 2024-03-03  62034.0  63249.0  61402.0  63142.0  1242.892730  7.766709e+07\n",
       "4535 2024-03-04  63140.0  68577.0  62376.0  68359.0  4423.236102  2.918021e+08\n",
       "4536 2024-03-05  68359.0  69210.0  59313.0  63796.0  7391.454192  4.806942e+08\n",
       "4537 2024-03-06  63815.0  67645.0  62843.0  66120.0  4235.328116  2.808652e+08\n",
       "4538 2024-03-07  66124.0  68061.0  65623.0  66941.0  3354.920167  2.254188e+08\n",
       "4539 2024-03-08  66928.0  70184.0  66264.0  68285.0  4423.057350  3.017462e+08\n",
       "4540 2024-03-09  68285.0  68685.0  68050.0  68463.0   856.107322  5.855178e+07\n",
       "4541 2024-03-10  68464.0  69999.0  68196.0  69026.0  1987.109438  1.376180e+08\n",
       "4542 2024-03-11  69013.0  72910.0  67120.0  72118.0  5028.350318  3.588209e+08\n",
       "4543 2024-03-12  72105.0  73054.0  68636.0  71473.0  4051.758551  2.887906e+08\n",
       "4544 2024-03-13  71473.0  73679.0  71340.0  73121.0  3647.592072  2.659118e+08\n",
       "4545 2024-03-14  73130.0  73794.0  68555.0  71371.0  4144.375046  2.954094e+08\n",
       "4546 2024-03-15  71387.0  72415.0  65569.0  69516.0  4952.410098  3.381071e+08\n",
       "4547 2024-03-16  69505.0  70069.0  64780.0  65248.0  2215.164964  1.490979e+08\n",
       "4548 2024-03-17  65245.0  68867.0  64522.0  68352.0  2040.410281  1.359786e+08\n",
       "4549 2024-03-18  68344.0  68902.0  66585.0  67613.0  2891.668168  1.953904e+08\n",
       "4550 2024-03-19  67603.0  68123.0  61447.0  61897.0  5318.125758  3.412483e+08\n",
       "4551 2024-03-20  61919.0  68168.0  60760.0  67872.0  4989.904592  3.182333e+08\n",
       "4552 2024-03-21  67842.0  68249.0  64537.0  65485.0  2935.804493  1.946797e+08\n",
       "4553 2024-03-22  65477.0  66631.0  62332.0  63807.0  2420.558362  1.556475e+08\n",
       "4554 2024-03-23  63812.0  66027.0  63016.0  64001.0  1252.513577  8.089207e+07\n",
       "4555 2024-03-24  64007.0  67613.0  63807.0  67188.0  1391.935057  9.106447e+07\n",
       "4556 2024-03-25  67208.0  71213.0  66407.0  69898.0  3049.191686  2.105153e+08\n",
       "4557 2024-03-26  69889.0  71572.0  69257.0  69997.0  2479.947993  1.742095e+08\n",
       "4558 2024-03-27  69999.0  71754.0  68362.0  69421.0  2306.370230  1.610145e+08\n",
       "4559 2024-03-28  69406.0  71587.0  68863.0  70803.0  2146.149296  1.515361e+08\n",
       "4560 2024-03-29  70769.0  70929.0  69073.0  69903.0  1131.132708  7.908740e+07\n",
       "4561 2024-03-30  69934.0  70344.0  69586.0  69613.0   589.840932  4.129605e+07\n",
       "4562 2024-03-31  69616.0  71391.0  69594.0  71285.0   857.979670  6.057837e+07"
      ]
     },
     "execution_count": 3,
     "metadata": {},
     "output_type": "execute_result"
    }
   ],
   "source": [
    "data[(data['Datetime'] >= '2024-03-01') & (data['Datetime'] <= '2024-03-31')]"
   ]
  },
  {
   "cell_type": "code",
   "execution_count": 4,
   "id": "5b0ecfaf-b8df-48a2-b21c-df0a621dd6b2",
   "metadata": {},
   "outputs": [
    {
     "data": {
      "text/html": [
       "<div>\n",
       "<style scoped>\n",
       "    .dataframe tbody tr th:only-of-type {\n",
       "        vertical-align: middle;\n",
       "    }\n",
       "\n",
       "    .dataframe tbody tr th {\n",
       "        vertical-align: top;\n",
       "    }\n",
       "\n",
       "    .dataframe thead th {\n",
       "        text-align: right;\n",
       "    }\n",
       "</style>\n",
       "<table border=\"1\" class=\"dataframe\">\n",
       "  <thead>\n",
       "    <tr style=\"text-align: right;\">\n",
       "      <th></th>\n",
       "      <th>Datetime</th>\n",
       "      <th>Open</th>\n",
       "      <th>High</th>\n",
       "      <th>Low</th>\n",
       "      <th>Close</th>\n",
       "      <th>Volume</th>\n",
       "      <th>Turnover</th>\n",
       "    </tr>\n",
       "  </thead>\n",
       "  <tbody>\n",
       "    <tr>\n",
       "      <th>4646</th>\n",
       "      <td>2024-06-23</td>\n",
       "      <td>64245.0</td>\n",
       "      <td>64490.0</td>\n",
       "      <td>63136.0</td>\n",
       "      <td>63154.0</td>\n",
       "      <td>633.149971</td>\n",
       "      <td>4.050990e+07</td>\n",
       "    </tr>\n",
       "    <tr>\n",
       "      <th>4647</th>\n",
       "      <td>2024-06-24</td>\n",
       "      <td>63152.0</td>\n",
       "      <td>63302.0</td>\n",
       "      <td>58456.0</td>\n",
       "      <td>60252.0</td>\n",
       "      <td>3965.347223</td>\n",
       "      <td>2.421268e+08</td>\n",
       "    </tr>\n",
       "    <tr>\n",
       "      <th>4648</th>\n",
       "      <td>2024-06-25</td>\n",
       "      <td>60250.0</td>\n",
       "      <td>62395.0</td>\n",
       "      <td>60223.0</td>\n",
       "      <td>61789.0</td>\n",
       "      <td>2662.528291</td>\n",
       "      <td>1.633821e+08</td>\n",
       "    </tr>\n",
       "    <tr>\n",
       "      <th>4649</th>\n",
       "      <td>2024-06-26</td>\n",
       "      <td>61798.0</td>\n",
       "      <td>62458.0</td>\n",
       "      <td>60675.0</td>\n",
       "      <td>60807.0</td>\n",
       "      <td>1392.694658</td>\n",
       "      <td>8.542569e+07</td>\n",
       "    </tr>\n",
       "    <tr>\n",
       "      <th>4650</th>\n",
       "      <td>2024-06-27</td>\n",
       "      <td>60820.0</td>\n",
       "      <td>61277.0</td>\n",
       "      <td>60561.0</td>\n",
       "      <td>61134.0</td>\n",
       "      <td>603.538712</td>\n",
       "      <td>3.673804e+07</td>\n",
       "    </tr>\n",
       "  </tbody>\n",
       "</table>\n",
       "</div>"
      ],
      "text/plain": [
       "       Datetime     Open     High      Low    Close       Volume      Turnover\n",
       "4646 2024-06-23  64245.0  64490.0  63136.0  63154.0   633.149971  4.050990e+07\n",
       "4647 2024-06-24  63152.0  63302.0  58456.0  60252.0  3965.347223  2.421268e+08\n",
       "4648 2024-06-25  60250.0  62395.0  60223.0  61789.0  2662.528291  1.633821e+08\n",
       "4649 2024-06-26  61798.0  62458.0  60675.0  60807.0  1392.694658  8.542569e+07\n",
       "4650 2024-06-27  60820.0  61277.0  60561.0  61134.0   603.538712  3.673804e+07"
      ]
     },
     "execution_count": 4,
     "metadata": {},
     "output_type": "execute_result"
    }
   ],
   "source": [
    "data.tail()"
   ]
  },
  {
   "cell_type": "code",
   "execution_count": 5,
   "id": "80962103-1704-4435-ac83-8cf919d21c68",
   "metadata": {},
   "outputs": [
    {
     "data": {
      "text/html": [
       "<div>\n",
       "<style scoped>\n",
       "    .dataframe tbody tr th:only-of-type {\n",
       "        vertical-align: middle;\n",
       "    }\n",
       "\n",
       "    .dataframe tbody tr th {\n",
       "        vertical-align: top;\n",
       "    }\n",
       "\n",
       "    .dataframe thead th {\n",
       "        text-align: right;\n",
       "    }\n",
       "</style>\n",
       "<table border=\"1\" class=\"dataframe\">\n",
       "  <thead>\n",
       "    <tr style=\"text-align: right;\">\n",
       "      <th></th>\n",
       "      <th>Datetime</th>\n",
       "      <th>Open</th>\n",
       "      <th>High</th>\n",
       "      <th>Low</th>\n",
       "      <th>Close</th>\n",
       "      <th>Volume</th>\n",
       "      <th>Turnover</th>\n",
       "    </tr>\n",
       "  </thead>\n",
       "  <tbody>\n",
       "    <tr>\n",
       "      <th>823</th>\n",
       "      <td>2014-01-01</td>\n",
       "      <td>732.00</td>\n",
       "      <td>757.99</td>\n",
       "      <td>729.01</td>\n",
       "      <td>754.90</td>\n",
       "      <td>7907.637862</td>\n",
       "      <td>5.894782e+06</td>\n",
       "    </tr>\n",
       "    <tr>\n",
       "      <th>824</th>\n",
       "      <td>2014-01-02</td>\n",
       "      <td>751.88</td>\n",
       "      <td>798.70</td>\n",
       "      <td>742.50</td>\n",
       "      <td>784.19</td>\n",
       "      <td>15134.169007</td>\n",
       "      <td>1.163316e+07</td>\n",
       "    </tr>\n",
       "    <tr>\n",
       "      <th>825</th>\n",
       "      <td>2014-01-03</td>\n",
       "      <td>784.19</td>\n",
       "      <td>818.99</td>\n",
       "      <td>767.62</td>\n",
       "      <td>809.40</td>\n",
       "      <td>14860.262828</td>\n",
       "      <td>1.186689e+07</td>\n",
       "    </tr>\n",
       "    <tr>\n",
       "      <th>826</th>\n",
       "      <td>2014-01-04</td>\n",
       "      <td>808.24</td>\n",
       "      <td>830.00</td>\n",
       "      <td>790.20</td>\n",
       "      <td>828.79</td>\n",
       "      <td>10990.142948</td>\n",
       "      <td>8.946716e+06</td>\n",
       "    </tr>\n",
       "    <tr>\n",
       "      <th>827</th>\n",
       "      <td>2014-01-05</td>\n",
       "      <td>828.79</td>\n",
       "      <td>948.00</td>\n",
       "      <td>826.07</td>\n",
       "      <td>905.00</td>\n",
       "      <td>24075.949596</td>\n",
       "      <td>2.123077e+07</td>\n",
       "    </tr>\n",
       "    <tr>\n",
       "      <th>...</th>\n",
       "      <td>...</td>\n",
       "      <td>...</td>\n",
       "      <td>...</td>\n",
       "      <td>...</td>\n",
       "      <td>...</td>\n",
       "      <td>...</td>\n",
       "      <td>...</td>\n",
       "    </tr>\n",
       "    <tr>\n",
       "      <th>4467</th>\n",
       "      <td>2023-12-27</td>\n",
       "      <td>42511.00</td>\n",
       "      <td>43698.00</td>\n",
       "      <td>42121.00</td>\n",
       "      <td>43473.00</td>\n",
       "      <td>2029.373720</td>\n",
       "      <td>8.715328e+07</td>\n",
       "    </tr>\n",
       "    <tr>\n",
       "      <th>4468</th>\n",
       "      <td>2023-12-28</td>\n",
       "      <td>43468.00</td>\n",
       "      <td>43812.00</td>\n",
       "      <td>42288.00</td>\n",
       "      <td>42583.00</td>\n",
       "      <td>1410.601815</td>\n",
       "      <td>6.054898e+07</td>\n",
       "    </tr>\n",
       "    <tr>\n",
       "      <th>4469</th>\n",
       "      <td>2023-12-29</td>\n",
       "      <td>42587.00</td>\n",
       "      <td>43128.00</td>\n",
       "      <td>41306.00</td>\n",
       "      <td>42072.00</td>\n",
       "      <td>2740.010434</td>\n",
       "      <td>1.158534e+08</td>\n",
       "    </tr>\n",
       "    <tr>\n",
       "      <th>4470</th>\n",
       "      <td>2023-12-30</td>\n",
       "      <td>42069.00</td>\n",
       "      <td>42599.00</td>\n",
       "      <td>41529.00</td>\n",
       "      <td>42148.00</td>\n",
       "      <td>931.222123</td>\n",
       "      <td>3.919633e+07</td>\n",
       "    </tr>\n",
       "    <tr>\n",
       "      <th>4471</th>\n",
       "      <td>2023-12-31</td>\n",
       "      <td>42148.00</td>\n",
       "      <td>42867.00</td>\n",
       "      <td>41976.00</td>\n",
       "      <td>42258.00</td>\n",
       "      <td>1192.726158</td>\n",
       "      <td>5.062055e+07</td>\n",
       "    </tr>\n",
       "  </tbody>\n",
       "</table>\n",
       "<p>3649 rows × 7 columns</p>\n",
       "</div>"
      ],
      "text/plain": [
       "       Datetime      Open      High       Low     Close        Volume  \\\n",
       "823  2014-01-01    732.00    757.99    729.01    754.90   7907.637862   \n",
       "824  2014-01-02    751.88    798.70    742.50    784.19  15134.169007   \n",
       "825  2014-01-03    784.19    818.99    767.62    809.40  14860.262828   \n",
       "826  2014-01-04    808.24    830.00    790.20    828.79  10990.142948   \n",
       "827  2014-01-05    828.79    948.00    826.07    905.00  24075.949596   \n",
       "...         ...       ...       ...       ...       ...           ...   \n",
       "4467 2023-12-27  42511.00  43698.00  42121.00  43473.00   2029.373720   \n",
       "4468 2023-12-28  43468.00  43812.00  42288.00  42583.00   1410.601815   \n",
       "4469 2023-12-29  42587.00  43128.00  41306.00  42072.00   2740.010434   \n",
       "4470 2023-12-30  42069.00  42599.00  41529.00  42148.00    931.222123   \n",
       "4471 2023-12-31  42148.00  42867.00  41976.00  42258.00   1192.726158   \n",
       "\n",
       "          Turnover  \n",
       "823   5.894782e+06  \n",
       "824   1.163316e+07  \n",
       "825   1.186689e+07  \n",
       "826   8.946716e+06  \n",
       "827   2.123077e+07  \n",
       "...            ...  \n",
       "4467  8.715328e+07  \n",
       "4468  6.054898e+07  \n",
       "4469  1.158534e+08  \n",
       "4470  3.919633e+07  \n",
       "4471  5.062055e+07  \n",
       "\n",
       "[3649 rows x 7 columns]"
      ]
     },
     "execution_count": 5,
     "metadata": {},
     "output_type": "execute_result"
    }
   ],
   "source": [
    "data[(data['Datetime'] >= '2014-01-01') & (data['Datetime'] <= '2023-12-31')]"
   ]
  },
  {
   "cell_type": "markdown",
   "id": "bfd16138-7993-46b1-ba72-0d472cc0b100",
   "metadata": {},
   "source": [
    "## Technical Indicators"
   ]
  },
  {
   "cell_type": "markdown",
   "id": "8f381f79-3362-4650-9cfe-577df8406f12",
   "metadata": {},
   "source": [
    "### Overlap Studies"
   ]
  },
  {
   "cell_type": "markdown",
   "id": "8068def9-647c-4319-ab4c-dbeb4c78c543",
   "metadata": {},
   "source": [
    "Bollinger Bands"
   ]
  },
  {
   "cell_type": "code",
   "execution_count": 6,
   "id": "8b2d0490-38c8-4575-80fb-3d07c11be79f",
   "metadata": {},
   "outputs": [],
   "source": [
    "data.loc[:, 'BBAND_UPPER'], data.loc[:, 'BBAND_MIDDLE'], data.loc[:, 'BBAND_LOWER'] = talib.BBANDS(data['Close'], timeperiod=20)\n",
    "data.loc[:, 'BBAND_WIDTH'] = (data['BBAND_UPPER'] - data['BBAND_LOWER']) / data['BBAND_MIDDLE']"
   ]
  },
  {
   "cell_type": "code",
   "execution_count": 7,
   "id": "41b47a0c-ec6f-4dc6-9265-0b9b0bcc5361",
   "metadata": {},
   "outputs": [],
   "source": [
    "data['BBAND_SIGN'] = 0\n",
    "data.loc[(data['Close'] < data['BBAND_LOWER']) & (data['BBAND_WIDTH'] > 0.1), 'BBAND_SIGN'] = 1\n",
    "data.loc[(data['Close'] > data['BBAND_UPPER']) & (data['BBAND_WIDTH'] > 0.1), 'BBAND_SIGN'] = -1"
   ]
  },
  {
   "cell_type": "markdown",
   "id": "4e09df52-ef10-4313-9417-df0e7dede1fc",
   "metadata": {},
   "source": [
    "Double Exponential Moving Average (DEMA)"
   ]
  },
  {
   "cell_type": "code",
   "execution_count": 8,
   "id": "7a0efed8-7f2a-4131-b5a9-bc371584d4de",
   "metadata": {},
   "outputs": [],
   "source": [
    "data.loc[:, 'DEMA20'] = talib.DEMA(data['Close'], 20)\n",
    "data.loc[:, 'DEMA50'] = talib.DEMA(data['Close'], 50)"
   ]
  },
  {
   "cell_type": "code",
   "execution_count": 9,
   "id": "cb234a1f-273e-4448-89f7-520342663998",
   "metadata": {},
   "outputs": [],
   "source": [
    "data.loc[:, 'DEMA_SIGN'] = 0\n",
    "data.loc[data['DEMA20'] > data['DEMA50'], 'DEMA_SIGN'] = 1\n",
    "data.loc[data['DEMA20'] <= data['DEMA50'], 'DEMA_SIGN'] = -1\n",
    "data.loc[:, 'DEMA_CROSS'] = data['DEMA_SIGN'].diff().fillna(0).astype(int) // 2"
   ]
  },
  {
   "cell_type": "markdown",
   "id": "f1e2e0f2-1269-4df1-aa21-eaf6519ab8ff",
   "metadata": {},
   "source": [
    "Exponential Moving Average"
   ]
  },
  {
   "cell_type": "code",
   "execution_count": 10,
   "id": "22cd5d93-bf5f-4eab-8933-d482b0053950",
   "metadata": {},
   "outputs": [],
   "source": [
    "data.loc[:, 'EMA20'] = talib.EMA(data['Close'], 20)\n",
    "data.loc[:, 'EMA50'] = talib.EMA(data['Close'], 50)"
   ]
  },
  {
   "cell_type": "code",
   "execution_count": 11,
   "id": "17a25cf2-8172-4348-8999-9aa507f26c6f",
   "metadata": {},
   "outputs": [],
   "source": [
    "data.loc[:, 'EMA_SIGN'] = 0\n",
    "data.loc[data['EMA20'] > data['EMA50'], 'EMA_SIGN'] = 1\n",
    "data.loc[data['EMA20'] <= data['EMA50'], 'EMA_SIGN'] = -1\n",
    "data.loc[:, 'EMA_CROSS'] = data['EMA_SIGN'].diff().fillna(0).astype(int) // 2"
   ]
  },
  {
   "cell_type": "markdown",
   "id": "d51c8626-1742-4343-b357-4d9add574a66",
   "metadata": {},
   "source": [
    "Hilbert Transform - Instantaneous Trendline"
   ]
  },
  {
   "cell_type": "code",
   "execution_count": 12,
   "id": "8c9a2ec6-d349-4e8a-945e-410272a54249",
   "metadata": {},
   "outputs": [],
   "source": [
    "data.loc[:, 'H_TRENDLINE'] = talib.HT_TRENDLINE(data['Close'])"
   ]
  },
  {
   "cell_type": "code",
   "execution_count": 13,
   "id": "2709caa0-253a-44af-9a4d-d45abeeab415",
   "metadata": {},
   "outputs": [],
   "source": [
    "data.loc[:, 'HT_SIGN'] = 0\n",
    "data.loc[data['Close'] > data['H_TRENDLINE'], 'HT_SIGN'] = 1\n",
    "data.loc[data['Close'] <= data['H_TRENDLINE'], 'HT_SIGN'] = -1\n",
    "data.loc[:, 'HT_CROSS'] = data['HT_SIGN'].diff().fillna(0).astype(int) // 2"
   ]
  },
  {
   "cell_type": "markdown",
   "id": "bdd3e026-689a-496f-9dd9-082d61b95e47",
   "metadata": {},
   "source": [
    "Kaufman Adaptive Moving Average (KAMA)"
   ]
  },
  {
   "cell_type": "code",
   "execution_count": 14,
   "id": "d503841f-33fa-4687-aff4-76db5c174074",
   "metadata": {},
   "outputs": [],
   "source": [
    "data.loc[:, 'KAMA'] = talib.KAMA(data['Close'])"
   ]
  },
  {
   "cell_type": "code",
   "execution_count": 15,
   "id": "7a417c20-cb27-427e-b8d5-e4abe771c262",
   "metadata": {},
   "outputs": [],
   "source": [
    "data.loc[:, 'KAMA_SIGN'] = 0\n",
    "data.loc[data['Close'] > data['KAMA'], 'KAMA_SIGN'] = 1\n",
    "data.loc[data['Close'] <= data['KAMA'], 'KAMA_SIGN'] = -1\n",
    "data.loc[:, 'KAMA_CROSS'] = data['KAMA_SIGN'].diff().fillna(0).astype(int) // 2"
   ]
  },
  {
   "cell_type": "markdown",
   "id": "e371efd4-a894-4a45-944c-0bf1401f4245",
   "metadata": {},
   "source": [
    "MidPoint over period"
   ]
  },
  {
   "cell_type": "code",
   "execution_count": 16,
   "id": "a313a9f7-3acf-45a4-b1d9-91e0b7494071",
   "metadata": {},
   "outputs": [],
   "source": [
    "data.loc[:, 'MIDPOINT'] = talib.MIDPOINT(data['Close'])"
   ]
  },
  {
   "cell_type": "markdown",
   "id": "98258b92-99d5-4247-9d51-35a5f1d444c8",
   "metadata": {},
   "source": [
    "Midpoint Price over period"
   ]
  },
  {
   "cell_type": "code",
   "execution_count": 17,
   "id": "c8c2a587-764d-407e-bbcf-71fe27a6138a",
   "metadata": {},
   "outputs": [],
   "source": [
    "data.loc[:, 'MIDPRICE'] = talib.MIDPRICE(data['High'], data['Low'])"
   ]
  },
  {
   "cell_type": "markdown",
   "id": "4cf2afd1-3a4c-4516-9e48-5c0948c2adff",
   "metadata": {},
   "source": [
    "Parabolic SAR"
   ]
  },
  {
   "cell_type": "code",
   "execution_count": 18,
   "id": "c9474d98-5a04-426f-a03a-7334c16bfb54",
   "metadata": {},
   "outputs": [],
   "source": [
    "data.loc[:, 'SAR'] = talib.SAR(data['High'], data['Low'])"
   ]
  },
  {
   "cell_type": "code",
   "execution_count": 19,
   "id": "b1bc10a6-d21a-4139-9fd4-bc4084866d3d",
   "metadata": {},
   "outputs": [],
   "source": [
    "data.loc[:, 'SAR_SIGN'] = 0\n",
    "data.loc[data['Close'] > data['SAR'], 'SAR_SIGN'] = 1\n",
    "data.loc[data['Close'] <= data['SAR'], 'SAR_SIGN'] = -1"
   ]
  },
  {
   "cell_type": "markdown",
   "id": "9e9252d9-309d-464a-97dc-7cdeb8729951",
   "metadata": {},
   "source": [
    "Simple Moving Average: SMA3, SMA5, SMA10, SMA20"
   ]
  },
  {
   "cell_type": "code",
   "execution_count": 20,
   "id": "212f0b6c-f052-422a-9d09-317800cdaf82",
   "metadata": {},
   "outputs": [],
   "source": [
    "data.loc[:, 'SMA3'] = talib.SMA(data['Close'], 3)\n",
    "data.loc[:, 'SMA5'] = talib.SMA(data['Close'], 5)\n",
    "data.loc[:, 'SMA10'] = talib.SMA(data['Close'], 10)\n",
    "data.loc[:, 'SMA20'] = talib.SMA(data['Close'], 20)"
   ]
  },
  {
   "cell_type": "code",
   "execution_count": 21,
   "id": "986a4ef4-4b12-422e-a7ad-58f2f2ddd1bc",
   "metadata": {},
   "outputs": [],
   "source": [
    "data.loc[:, 'SMA35_SIGN'] = np.where(data['SMA3'] > data['SMA5'], 1, 0)\n",
    "data.loc[:, 'SMA310_SIGN'] = np.where(data['SMA3'] > data['SMA10'], 1, 0)\n",
    "data.loc[:, 'SMA320_SIGN'] = np.where(data['SMA3'] > data['SMA20'], 1, 0)\n",
    "data.loc[:, 'SMA510_SIGN'] = np.where(data['SMA5'] > data['SMA10'], 1, 0)\n",
    "data.loc[:, 'SMA520_SIGN'] = np.where(data['SMA5'] > data['SMA20'], 1, 0)\n",
    "data.loc[:, 'SMA1020_SIGN'] = np.where(data['SMA10'] > data['SMA20'], 1, 0)"
   ]
  },
  {
   "cell_type": "code",
   "execution_count": 22,
   "id": "a48095d8-510f-44b6-a25e-492caa02171d",
   "metadata": {},
   "outputs": [],
   "source": [
    "data.loc[:, 'SMA35_CROSS'] = data.loc[:, 'SMA35_SIGN'].diff().fillna(0).astype(int) // 2\n",
    "data.loc[:, 'SMA310_CROSS'] = data.loc[:, 'SMA310_SIGN'].diff().fillna(0).astype(int) // 2\n",
    "data.loc[:, 'SMA320_CROSS'] = data.loc[:, 'SMA320_SIGN'].diff().fillna(0).astype(int) // 2\n",
    "data.loc[:, 'SMA510_CROSS'] = data.loc[:, 'SMA510_SIGN'].diff().fillna(0).astype(int) // 2\n",
    "data.loc[:, 'SMA520_CROSS'] = data.loc[:, 'SMA520_SIGN'].diff().fillna(0).astype(int) // 2\n",
    "data.loc[:, 'SMA1020_CROSS'] = data.loc[:, 'SMA1020_SIGN'].diff().fillna(0).astype(int) // 2"
   ]
  },
  {
   "cell_type": "markdown",
   "id": "c4ed78cb-0d59-4658-9eda-2751340d16c4",
   "metadata": {},
   "source": [
    "Triple Exponential Moving Average (TEMA)"
   ]
  },
  {
   "cell_type": "code",
   "execution_count": 23,
   "id": "defe5cd8-fb75-4ba1-8966-0af1c9e513ac",
   "metadata": {},
   "outputs": [],
   "source": [
    "data.loc[:, 'TEMA20'] = talib.TEMA(data['Close'], 20)\n",
    "data.loc[:, 'TEMA50'] = talib.TEMA(data['Close'], 50)"
   ]
  },
  {
   "cell_type": "code",
   "execution_count": 24,
   "id": "f79da934-fec9-4153-a9c3-7eb167e35510",
   "metadata": {},
   "outputs": [],
   "source": [
    "data.loc[:, 'TEMA_SIGN'] = 0\n",
    "data.loc[data['TEMA20'] > data['TEMA50'], 'TEMA_SIGN'] = 1\n",
    "data.loc[data['TEMA20'] <= data['TEMA50'], 'TEMA_SIGN'] = -1\n",
    "data.loc[:, 'TEMA_CROSS'] = data['TEMA_SIGN'].diff().fillna(0).astype(int) // 2"
   ]
  },
  {
   "cell_type": "markdown",
   "id": "0088a5d4-184a-4d55-8107-85c68621a32a",
   "metadata": {},
   "source": [
    "Triangular Moving Average (TRIMA)"
   ]
  },
  {
   "cell_type": "code",
   "execution_count": 25,
   "id": "13f8f8a7-6d59-460a-b50a-a17e1076bf8f",
   "metadata": {},
   "outputs": [],
   "source": [
    "data.loc[:, 'TRIMA'] = talib.TRIMA(data['Close'])\n",
    "data.loc[:, 'TRIMA_SIGN'] = 0\n",
    "data.loc[data['Close'] > data['TRIMA'], 'TRIMA_SIGN'] = 1\n",
    "data.loc[data['Close'] < data['TRIMA'], 'TRIMA_SIGN'] = -1\n",
    "data.loc[:, 'TRIMA_CROSS'] = data['TRIMA_SIGN'].diff().fillna(0).astype(int) // 2"
   ]
  },
  {
   "cell_type": "markdown",
   "id": "39d6587a-1299-4120-91ed-5a55c8c9ee7a",
   "metadata": {},
   "source": [
    "Weighted Moving Average (WMA)"
   ]
  },
  {
   "cell_type": "code",
   "execution_count": 26,
   "id": "40ade941-98f8-4d46-9737-e790cbb85841",
   "metadata": {},
   "outputs": [],
   "source": [
    "data.loc[:, 'WMA20'] = talib.WMA(data['Close'], 20)\n",
    "data.loc[:, 'WMA50'] = talib.WMA(data['Close'], 50)"
   ]
  },
  {
   "cell_type": "code",
   "execution_count": 27,
   "id": "686cb42b-71bd-420f-98be-bb1705fc5b83",
   "metadata": {},
   "outputs": [],
   "source": [
    "data.loc[:, 'WMA_SIGN'] = 0\n",
    "data.loc[data['WMA20'] > data['WMA50'], 'WMA_SIGN'] = 1\n",
    "data.loc[data['WMA20'] <= data['WMA50'], 'WMA_SIGN'] = -1\n",
    "data.loc[:, 'WMA_CROSS'] = data['WMA_SIGN'].diff().fillna(0).astype(int) // 2"
   ]
  },
  {
   "cell_type": "markdown",
   "id": "481d9638-0b7b-4a0c-a3c9-1327680b4cf6",
   "metadata": {},
   "source": [
    "### Momentum Indicators"
   ]
  },
  {
   "cell_type": "markdown",
   "id": "7b455cce-9152-4c99-98b4-d9a934d91057",
   "metadata": {},
   "source": [
    "Average Directional Movement Index (ADX)"
   ]
  },
  {
   "cell_type": "code",
   "execution_count": 28,
   "id": "5bf531ba-4e8e-49db-ae62-4b2920621711",
   "metadata": {},
   "outputs": [],
   "source": [
    "data.loc[:, 'ADX14'] = talib.ADX(data['High'], data['Low'], data['Close'], 14)\n",
    "data.loc[:, 'ADX20'] = talib.ADX(data['High'], data['Low'], data['Close'], 20)"
   ]
  },
  {
   "cell_type": "code",
   "execution_count": 29,
   "id": "b02d1da7-8cb3-4f13-85fe-5e65074b547b",
   "metadata": {},
   "outputs": [],
   "source": [
    "data.loc[:, 'ADX14_SIGN'] = np.where(data['ADX14'] > 30, 1, 0)\n",
    "data.loc[:, 'ADX20_SIGN'] = np.where(data['ADX20'] > 30, 1, 0)"
   ]
  },
  {
   "cell_type": "markdown",
   "id": "e1506b56-47a2-498d-a9a6-a174269e5038",
   "metadata": {},
   "source": [
    "Average Directional Movement Index Rating (ADXR)"
   ]
  },
  {
   "cell_type": "code",
   "execution_count": 30,
   "id": "0ff6de0b-212f-4e2d-9e4c-56196b8ade14",
   "metadata": {},
   "outputs": [],
   "source": [
    "data.loc[:, 'ADXR'] = talib.ADXR(data['High'], data['Low'], data['Close'])"
   ]
  },
  {
   "cell_type": "code",
   "execution_count": 31,
   "id": "c5413d2e-c33e-4e5d-947d-7a4a1a97cfbd",
   "metadata": {},
   "outputs": [],
   "source": [
    "data.loc[:, 'ADXR_SIGN'] = np.where(data['ADXR'] > 30, 1, 0)"
   ]
  },
  {
   "cell_type": "markdown",
   "id": "b0a3ae7f-efba-4f91-8361-d032d81fb512",
   "metadata": {},
   "source": [
    "Absolute Price Oscillator (APO)"
   ]
  },
  {
   "cell_type": "code",
   "execution_count": 32,
   "id": "f74f881e-3338-46a5-ab2c-52c6f61f00e6",
   "metadata": {},
   "outputs": [],
   "source": [
    "data.loc[:, 'APO'] = talib.APO(data['Close'])\n",
    "data.loc[:, 'APO_SCALED'] = talib.APO(data['Close']) / data['Close']"
   ]
  },
  {
   "cell_type": "markdown",
   "id": "38d35b40-ae65-4f87-9b82-57f43689d053",
   "metadata": {},
   "source": [
    "Aroon Oscillator"
   ]
  },
  {
   "cell_type": "code",
   "execution_count": 33,
   "id": "f7cb0b12-6933-45e8-980b-41274f7a8f0c",
   "metadata": {},
   "outputs": [],
   "source": [
    "data.loc[:, 'AROON_OSC'] = talib.AROONOSC(data['High'], data['Low'])"
   ]
  },
  {
   "cell_type": "code",
   "execution_count": 34,
   "id": "984f8fd0-7f94-4f77-a891-f6a657593a67",
   "metadata": {},
   "outputs": [],
   "source": [
    "data['AROON_OSC_SIGN'] = np.where(data['AROON_OSC'] > 75, 1, np.where(data['AROON_OSC'] < -75, -1, 0))"
   ]
  },
  {
   "cell_type": "markdown",
   "id": "d41e37c2-61f9-4e5e-a60c-1903b418c292",
   "metadata": {},
   "source": [
    "Balance of Power (BOP)"
   ]
  },
  {
   "cell_type": "code",
   "execution_count": 35,
   "id": "6e683e5b-56c1-4af5-80e9-bbf6e87450ae",
   "metadata": {},
   "outputs": [],
   "source": [
    "data.loc[:, 'BOP'] = talib.BOP(data['Open'], data['High'], data['Low'], data['Close'])"
   ]
  },
  {
   "cell_type": "code",
   "execution_count": 36,
   "id": "6f4a5011-2bf6-4eac-a48c-3b635d2401be",
   "metadata": {},
   "outputs": [],
   "source": [
    "data['BOP_SIGN'] = np.where(data['BOP'] > 0.4, 1, np.where(data['BOP'] < -0.4, -1, 0))"
   ]
  },
  {
   "cell_type": "markdown",
   "id": "cc904606-bb6e-4af4-b3a0-afae01c2afb5",
   "metadata": {},
   "source": [
    "Commodity Channel Index (CCI)"
   ]
  },
  {
   "cell_type": "code",
   "execution_count": 37,
   "id": "ad9e5de0-c089-4639-ba37-7a4b270d6fd6",
   "metadata": {},
   "outputs": [],
   "source": [
    "data.loc[:, 'CCI3'] = talib.CCI(data['High'], data['Low'], data['Close'], 3)\n",
    "data.loc[:, 'CCI5'] = talib.CCI(data['High'], data['Low'], data['Close'], 5)\n",
    "data.loc[:, 'CCI10'] = talib.CCI(data['High'], data['Low'], data['Close'], 10)\n",
    "data.loc[:, 'CCI14'] = talib.CCI(data['High'], data['Low'], data['Close'], 14)"
   ]
  },
  {
   "cell_type": "code",
   "execution_count": 38,
   "id": "34ff7b57-742c-4a87-8682-47f236aef92c",
   "metadata": {},
   "outputs": [],
   "source": [
    "data['CCI3_SIGN'] = np.where(data['CCI3'] > 100, 1, np.where(data['CCI3'] < -100, -1, 0))\n",
    "data['CCI5_SIGN'] = np.where(data['CCI5'] > 100, 1, np.where(data['CCI5'] < -100, -1, 0))\n",
    "data['CCI10_SIGN'] = np.where(data['CCI10'] > 100, 1, np.where(data['CCI10'] < -100, -1, 0))\n",
    "data['CCI14_SIGN'] = np.where(data['CCI14'] > 100, 1, np.where(data['CCI14'] < -100, -1, 0))"
   ]
  },
  {
   "cell_type": "markdown",
   "id": "ad126429-8d84-4a71-912c-70455fc19b05",
   "metadata": {},
   "source": [
    "Chande Momentum Oscillator (CMO)"
   ]
  },
  {
   "cell_type": "code",
   "execution_count": 39,
   "id": "cf2ecedc-eb98-4eb6-9943-c31336631557",
   "metadata": {},
   "outputs": [],
   "source": [
    "data.loc[:, 'CMO'] = talib.CMO(data['Close'])"
   ]
  },
  {
   "cell_type": "code",
   "execution_count": 40,
   "id": "d6b484b6-bd88-4498-beff-2791313b03e9",
   "metadata": {},
   "outputs": [],
   "source": [
    "data['CMO_SIGN'] = np.where(data['CMO'] > 40, 1, np.where(data['CMO'] < -40, -1, 0))"
   ]
  },
  {
   "cell_type": "markdown",
   "id": "f89ec777-742d-4c2d-99ad-78bf999f3380",
   "metadata": {},
   "source": [
    "Directional Movement Index (DX)"
   ]
  },
  {
   "cell_type": "code",
   "execution_count": 41,
   "id": "ce5057d7-3264-4b18-9bd5-9a4e4fa4ca04",
   "metadata": {},
   "outputs": [],
   "source": [
    "data.loc[:, 'DX'] = talib.DX(data['High'], data['Low'], data['Close'])"
   ]
  },
  {
   "cell_type": "markdown",
   "id": "34892552-6e67-4e46-b3c4-f11464e762a6",
   "metadata": {},
   "source": [
    "Moving Average Convergence/Divergence (MACD)"
   ]
  },
  {
   "cell_type": "code",
   "execution_count": 42,
   "id": "690ee03d-d103-4820-8c3b-36a852365797",
   "metadata": {},
   "outputs": [],
   "source": [
    "data.loc[:, 'MACD'], data.loc[:, 'MACD_SIGNAL'], data.loc[:, 'MACD_HIST'] = talib.MACD(data['Close'])\n",
    "data['MACD_SIGN'] = np.where(data['MACD_HIST'] > 20, 1, np.where(data['MACD_HIST'] < -20, -1, 0))"
   ]
  },
  {
   "cell_type": "markdown",
   "id": "0bf3c4a9-bdbf-46ea-bdb2-54dfa676e325",
   "metadata": {},
   "source": [
    "Minus Directional Indicator (MINUS_DI)"
   ]
  },
  {
   "cell_type": "code",
   "execution_count": 43,
   "id": "e0bc3a5c-b54b-47ee-a0c1-a22b90517045",
   "metadata": {},
   "outputs": [],
   "source": [
    "data.loc[:, 'MINUS_DI'] = talib.MINUS_DI(data['High'], data['Low'], data['Close'])"
   ]
  },
  {
   "cell_type": "markdown",
   "id": "6d71a528-9c4e-4a5d-ba6c-2bfaa1649b3a",
   "metadata": {},
   "source": [
    "Minus Directional Movement"
   ]
  },
  {
   "cell_type": "code",
   "execution_count": 44,
   "id": "5cd2186e-6c9b-4c0c-932c-08e7d4817f33",
   "metadata": {},
   "outputs": [],
   "source": [
    "data.loc[:, 'MINUS_DM'] = talib.MINUS_DM(data['High'], data['Low'])"
   ]
  },
  {
   "cell_type": "markdown",
   "id": "df06e07a-6c55-4b68-a890-52d9cbb4a817",
   "metadata": {},
   "source": [
    "Momentum (MOM)"
   ]
  },
  {
   "cell_type": "code",
   "execution_count": 45,
   "id": "3d320697-3433-4807-b3b6-57697943d889",
   "metadata": {},
   "outputs": [],
   "source": [
    "data.loc[:, 'MOM_1'] = talib.MOM(data['Close'], 1) / data['Close']\n",
    "data.loc[:, 'MOM_3'] = talib.MOM(data['Close'], 3) / data['Close']\n",
    "data.loc[:, 'MOM_5'] = talib.MOM(data['Close'], 5) / data['Close']\n",
    "data.loc[:, 'MOM_10'] = talib.MOM(data['Close'], 10) / data['Close']"
   ]
  },
  {
   "cell_type": "markdown",
   "id": "7b2602e0-12a4-42e6-843c-6f6e500c1762",
   "metadata": {},
   "source": [
    "Plus Directional Indicator"
   ]
  },
  {
   "cell_type": "code",
   "execution_count": 46,
   "id": "05d032f5-762a-495f-bbda-a6e66d337980",
   "metadata": {},
   "outputs": [],
   "source": [
    "data.loc[:, 'PLUS_DI'] = talib.PLUS_DI(data['High'], data['Low'], data['Close'])"
   ]
  },
  {
   "cell_type": "markdown",
   "id": "f84e8c0e-2447-49c4-a6f5-62f4088d331d",
   "metadata": {},
   "source": [
    "Plus Directional Movement"
   ]
  },
  {
   "cell_type": "code",
   "execution_count": 47,
   "id": "074f6eff-f8fb-4641-a198-664e491c846c",
   "metadata": {},
   "outputs": [],
   "source": [
    "data.loc[:, 'PLUS_DM'] = talib.PLUS_DM(data['High'], data['Low'])"
   ]
  },
  {
   "cell_type": "markdown",
   "id": "76c88612-0c3d-4517-baf7-72e3fde45da9",
   "metadata": {},
   "source": [
    "Percentage Price Oscillator"
   ]
  },
  {
   "cell_type": "code",
   "execution_count": 48,
   "id": "8a4f6bb3-db17-4c17-9cf2-0ade97e51c96",
   "metadata": {},
   "outputs": [],
   "source": [
    "data.loc[:, 'PPO'] = talib.PPO(data['Close'])\n",
    "data.loc[:, 'PPO_SIGN'] = np.where(data['PPO'] > 4, 1, np.where(data['PPO'] < -3, -1, 0))"
   ]
  },
  {
   "cell_type": "markdown",
   "id": "3337958c-cc46-475d-b000-0a32b9c9483f",
   "metadata": {},
   "source": [
    "Rate of Change (ROC)"
   ]
  },
  {
   "cell_type": "code",
   "execution_count": 49,
   "id": "36c89582-c123-4b28-a416-9bb52b1ea8d9",
   "metadata": {},
   "outputs": [],
   "source": [
    "data.loc[:, 'ROC'] = talib.ROC(data['Close'])"
   ]
  },
  {
   "cell_type": "markdown",
   "id": "7f66e646-8220-4796-a769-fae4f0369599",
   "metadata": {},
   "source": [
    "Rate of change Percentage (ROCP)"
   ]
  },
  {
   "cell_type": "code",
   "execution_count": 50,
   "id": "5d0cb359-e6d5-42ba-8cac-4379059b580b",
   "metadata": {},
   "outputs": [],
   "source": [
    "data.loc[:, 'ROCP'] = talib.ROCP(data['Close'])"
   ]
  },
  {
   "cell_type": "markdown",
   "id": "42dead52-7f7c-445c-9fd1-75dce4251257",
   "metadata": {},
   "source": [
    "Rate of Change Ratio (ROCR)"
   ]
  },
  {
   "cell_type": "code",
   "execution_count": 51,
   "id": "6b84f238-08ad-4c79-9c6b-4f34817f1465",
   "metadata": {},
   "outputs": [],
   "source": [
    "data.loc[:, 'ROCR'] = talib.ROCR(data['Close'])"
   ]
  },
  {
   "cell_type": "markdown",
   "id": "8bd91bd0-8582-463c-b5c1-488d839b80fb",
   "metadata": {},
   "source": [
    "Rate of change Ratio 100 Scale (ROCR100)"
   ]
  },
  {
   "cell_type": "code",
   "execution_count": 52,
   "id": "2353dc48-e248-4a59-9f8f-8f831e1ccea1",
   "metadata": {},
   "outputs": [],
   "source": [
    "data.loc[:, 'ROCR_100'] = talib.ROCR100(data['Close'])"
   ]
  },
  {
   "cell_type": "markdown",
   "id": "386ab48f-7076-4b95-8601-cd3c28286578",
   "metadata": {},
   "source": [
    "Relative Strength Index (RSI)"
   ]
  },
  {
   "cell_type": "code",
   "execution_count": 53,
   "id": "946c9055-1b51-4f71-8f37-fdbb3c15f4b4",
   "metadata": {},
   "outputs": [],
   "source": [
    "data.loc[:, 'RSI5'] = talib.RSI(data['Close'], 5)\n",
    "data.loc[:, 'RSI10'] = talib.RSI(data['Close'], 10)\n",
    "data.loc[:, 'RSI14'] = talib.RSI(data['Close'], 14)"
   ]
  },
  {
   "cell_type": "code",
   "execution_count": 54,
   "id": "8cd9c60b-2cf7-424e-a03a-f14be97dbba9",
   "metadata": {},
   "outputs": [],
   "source": [
    "data.loc[:, 'RSI5_SIGN'] = np.where(data['RSI5'] > 70, 1, np.where(data['RSI5'] < 30, -1, 0))\n",
    "data.loc[:, 'RSI10_SIGN'] = np.where(data['RSI10'] > 70, 1, np.where(data['RSI10'] < 30, -1, 0))\n",
    "data.loc[:, 'RSI14_SIGN'] = np.where(data['RSI14'] > 70, 1, np.where(data['RSI14'] < 30, -1, 0))"
   ]
  },
  {
   "cell_type": "markdown",
   "id": "e67b5522-5cd0-4428-a4d0-27bdc412b25a",
   "metadata": {},
   "source": [
    "Stochastic"
   ]
  },
  {
   "cell_type": "code",
   "execution_count": 55,
   "id": "80ef281f-b3d3-4a5c-b20e-9862f01351b0",
   "metadata": {},
   "outputs": [],
   "source": [
    "data.loc[:, 'SLOW_K'], data.loc[:, 'SLOW_D'] = talib.STOCH(data['High'], data['Low'], data['Close'])"
   ]
  },
  {
   "cell_type": "code",
   "execution_count": 56,
   "id": "0c811a87-35b3-4f7d-922a-c9979d770a95",
   "metadata": {},
   "outputs": [],
   "source": [
    "data['STOCH_SLOW_SIGN'] = 0\n",
    "data.loc[(data['SLOW_K'] < 30) & (data['SLOW_K'] > data['SLOW_D']), 'STOCH_SLOW_SIGN'] = 1\n",
    "data.loc[(data['SLOW_K'] > 70) & (data['SLOW_K'] < data['SLOW_D']), 'STOCH_SLOW_SIGN'] = -1"
   ]
  },
  {
   "cell_type": "markdown",
   "id": "5b996aba-380d-45b8-a8c6-e5ee84f4a2d5",
   "metadata": {},
   "source": [
    "Stochastic Fast"
   ]
  },
  {
   "cell_type": "code",
   "execution_count": 57,
   "id": "c0cb17b3-c040-4c1c-af10-fc9767165015",
   "metadata": {},
   "outputs": [],
   "source": [
    "data.loc[:, 'FAST_K'], data.loc[:, 'FAST_D'] = talib.STOCHF(data['High'], data['Low'], data['Close'])"
   ]
  },
  {
   "cell_type": "code",
   "execution_count": 58,
   "id": "0b5ca1d5-ac3d-4d12-b710-17ed4df1a63b",
   "metadata": {},
   "outputs": [],
   "source": [
    "data['STOCH_FAST_SIGN'] = 0\n",
    "data.loc[(data['FAST_K'] < 30) & (data['FAST_K'] > data['FAST_D']), 'STOCH_FAST_SIGN'] = 1\n",
    "data.loc[(data['FAST_K'] > 70) & (data['FAST_K'] < data['FAST_D']), 'STOCH_FAST_SIGN'] = -1"
   ]
  },
  {
   "cell_type": "markdown",
   "id": "0513458d-9d04-4706-8c2b-1b9cb2683dbd",
   "metadata": {},
   "source": [
    "1-day Rate-Of-Change (ROC) of a Triple Smooth EMA (TRIX)"
   ]
  },
  {
   "cell_type": "code",
   "execution_count": 59,
   "id": "ff324517-5ddd-4b4d-802c-6aa0cf8d5452",
   "metadata": {},
   "outputs": [],
   "source": [
    "data.loc[:, 'TRIX'] = talib.TRIX(data['Close'])"
   ]
  },
  {
   "cell_type": "code",
   "execution_count": 60,
   "id": "ce6e3f82-2c9b-4da5-922f-12d335360069",
   "metadata": {},
   "outputs": [],
   "source": [
    "data['TRIX_SIGNAL'] = 0\n",
    "data.loc[data['TRIX'] > 0, 'TRIX_SIGNAL'] = 1\n",
    "data.loc[data['TRIX'] < 0, 'TRIX_SIGNAL'] = -1"
   ]
  },
  {
   "cell_type": "markdown",
   "id": "c73cbe17-cec1-48c6-9914-0527403515ec",
   "metadata": {},
   "source": [
    "Ultimate Oscillator"
   ]
  },
  {
   "cell_type": "code",
   "execution_count": 61,
   "id": "938e8000-487f-4809-9eba-35f19e988365",
   "metadata": {},
   "outputs": [],
   "source": [
    "data.loc[:, 'ULT_OSC'] = talib.ULTOSC(data['High'], data['Low'], data['Close'])"
   ]
  },
  {
   "cell_type": "code",
   "execution_count": 62,
   "id": "21023785-521d-40b9-b3de-dfbbd33e3297",
   "metadata": {},
   "outputs": [],
   "source": [
    "data['ULT_OSC_SIGN'] = 0\n",
    "data.loc[data['ULT_OSC'] > 70, 'ULT_OSC_SIGN'] = -1\n",
    "data.loc[data['ULT_OSC'] < 30, 'ULT_OSC_SIGN'] = 1"
   ]
  },
  {
   "cell_type": "markdown",
   "id": "76792954-8a5e-4c43-a79c-ad82ed7a906e",
   "metadata": {},
   "source": [
    "Williams' %R"
   ]
  },
  {
   "cell_type": "code",
   "execution_count": 63,
   "id": "3525bce3-73ba-45aa-b876-303cc5837f64",
   "metadata": {},
   "outputs": [],
   "source": [
    "data.loc[:, 'WILLIAMS_R'] = talib.WILLR(data['High'], data['Low'], data['Close'])"
   ]
  },
  {
   "cell_type": "code",
   "execution_count": 64,
   "id": "cf56bd5b-bd16-4e09-8cb4-736c43fe7903",
   "metadata": {},
   "outputs": [],
   "source": [
    "data['WILLIAMS_R_SIGN'] = 0\n",
    "data.loc[data['WILLIAMS_R'] < -80, 'WILLIAMS_R_SIGN'] = 1\n",
    "data.loc[data['WILLIAMS_R'] > -20, 'WILLIAMS_R_SIGN'] = -1"
   ]
  },
  {
   "cell_type": "markdown",
   "id": "d0ad0693-682e-4cf7-847d-2735d232ef15",
   "metadata": {},
   "source": [
    "### Volatility Indicators"
   ]
  },
  {
   "cell_type": "markdown",
   "id": "138ba25c-04e7-450c-9df3-7b86ab91ed39",
   "metadata": {},
   "source": [
    "Average True Range (ATR)"
   ]
  },
  {
   "cell_type": "code",
   "execution_count": 65,
   "id": "512f5050-2d66-4b26-a114-36754f60b550",
   "metadata": {},
   "outputs": [],
   "source": [
    "data.loc[:, 'ATR'] = talib.ATR(data['High'], data['Low'], data['Close'])"
   ]
  },
  {
   "cell_type": "markdown",
   "id": "896abfec-f084-4958-a476-6f88a85c59b8",
   "metadata": {},
   "source": [
    "Normalized Average True Range (NATR)"
   ]
  },
  {
   "cell_type": "code",
   "execution_count": 66,
   "id": "394aece9-e7a8-4ad8-8ee6-fdc4730e22d5",
   "metadata": {},
   "outputs": [],
   "source": [
    "data.loc[:, 'NATR'] = talib.NATR(data['High'], data['Low'], data['Close'])"
   ]
  },
  {
   "cell_type": "code",
   "execution_count": 67,
   "id": "e0a544ef-63ae-46c2-8043-86e102c8dbc4",
   "metadata": {},
   "outputs": [],
   "source": [
    "data['NATR_SIGN'] = 0 \n",
    "data.loc[data['NATR'] < 3, 'NATR_SIGN'] = 1\n",
    "data.loc[data['NATR'] > 7, 'NATR_SIGN'] = -1"
   ]
  },
  {
   "cell_type": "markdown",
   "id": "6d89ae8a-1ec3-4f85-b52f-edf0906e63f6",
   "metadata": {},
   "source": [
    "True Range"
   ]
  },
  {
   "cell_type": "code",
   "execution_count": 68,
   "id": "811843bd-4e84-4f2c-8b85-3778f406d2e4",
   "metadata": {},
   "outputs": [],
   "source": [
    "data.loc[:, 'TRANGE'] = talib.TRANGE(data['High'], data['Low'], data['Close']) / data['Close']"
   ]
  },
  {
   "cell_type": "markdown",
   "id": "5c3ae33d-e183-476c-aaf5-9f5f575002ec",
   "metadata": {},
   "source": [
    "### Candlestick Patterns"
   ]
  },
  {
   "cell_type": "markdown",
   "id": "65424782-d828-4f16-a8fb-7c58b24e8e26",
   "metadata": {},
   "source": [
    "Two Crows"
   ]
  },
  {
   "cell_type": "code",
   "execution_count": 69,
   "id": "31836526-9851-4dfb-a486-79dc69e61a78",
   "metadata": {},
   "outputs": [],
   "source": [
    "data.loc[:, 'CDL2CROWS'] = (talib.CDL2CROWS(data['Open'], data['High'], data['Low'], data['Close']) != 0).astype(int)"
   ]
  },
  {
   "cell_type": "markdown",
   "id": "570dbaf4-db21-4640-ba12-5d633cedf591",
   "metadata": {},
   "source": [
    "Three Black Crows"
   ]
  },
  {
   "cell_type": "code",
   "execution_count": 70,
   "id": "b5863c66-ffd7-4a95-88d8-1b09df32eba6",
   "metadata": {},
   "outputs": [],
   "source": [
    "data.loc[:, 'CDL3BLACKCROWS'] = (talib.CDL3BLACKCROWS(data['Open'], data['High'], data['Low'], data['Close']) != 0).astype(int)"
   ]
  },
  {
   "cell_type": "markdown",
   "id": "e8d8b36d-253a-4b18-824d-e5bdc325128c",
   "metadata": {},
   "source": [
    "Three Inside Up/Down"
   ]
  },
  {
   "cell_type": "code",
   "execution_count": 71,
   "id": "bee2a20d-8aea-492c-997e-3d7495496893",
   "metadata": {},
   "outputs": [],
   "source": [
    "data.loc[:, 'CDL3INSIDE_BULL'] = (talib.CDL3INSIDE(data['Open'], data['High'], data['Low'], data['Close']) > 50).astype(int)\n",
    "data.loc[:, 'CDL3INSIDE_BEAR'] = (talib.CDL3INSIDE(data['Open'], data['High'], data['Low'], data['Close']) < -50).astype(int)"
   ]
  },
  {
   "cell_type": "markdown",
   "id": "2131b8e3-1ab4-41f6-a830-5abae554f392",
   "metadata": {},
   "source": [
    "Three-Line Strike"
   ]
  },
  {
   "cell_type": "code",
   "execution_count": 72,
   "id": "98bbec40-245d-43a1-a343-e3c74a83aeb5",
   "metadata": {},
   "outputs": [],
   "source": [
    "data.loc[:, 'CDL3LINESTRIKE_BULL'] = (talib.CDL3LINESTRIKE(data['Open'], data['High'], data['Low'], data['Close']) > 50).astype(int)\n",
    "data.loc[:, 'CDL3LINESTRIKE_BEAR'] = (talib.CDL3LINESTRIKE(data['Open'], data['High'], data['Low'], data['Close']) < -50).astype(int)"
   ]
  },
  {
   "cell_type": "markdown",
   "id": "d643cbf8-fb4b-4d4b-9206-0050efb7d769",
   "metadata": {},
   "source": [
    "Three Outside Up/Down"
   ]
  },
  {
   "cell_type": "code",
   "execution_count": 73,
   "id": "20d20f2b-1875-4325-a6e2-e97e90fbaa5c",
   "metadata": {},
   "outputs": [],
   "source": [
    "data.loc[:, 'CDL3OUTSIDE_BULL'] = (talib.CDL3OUTSIDE(data['Open'], data['High'], data['Low'], data['Close']) > 50).astype(int)\n",
    "data.loc[:, 'CDL3OUTSIDE_BEAR'] = (talib.CDL3OUTSIDE(data['Open'], data['High'], data['Low'], data['Close']) < -50).astype(int)"
   ]
  },
  {
   "cell_type": "markdown",
   "id": "6b1b01ae-e22d-437f-90b9-8f5c17f263fb",
   "metadata": {},
   "source": [
    "Three Stars in The South"
   ]
  },
  {
   "cell_type": "code",
   "execution_count": 74,
   "id": "e6770f61-5c68-44b1-bd2c-d339e13f12ca",
   "metadata": {},
   "outputs": [],
   "source": [
    "data.loc[:, 'CDL3STARSINSOUTH'] = talib.CDL3STARSINSOUTH(data['Open'], data['High'], data['Low'], data['Close'])"
   ]
  },
  {
   "cell_type": "markdown",
   "id": "f8d6c81b-290c-4991-8e5d-e64672de9f9d",
   "metadata": {},
   "source": [
    "Three Advancing White"
   ]
  },
  {
   "cell_type": "code",
   "execution_count": 75,
   "id": "fec0a94d-7552-4ec2-a648-260147b786d7",
   "metadata": {},
   "outputs": [],
   "source": [
    "data.loc[:, 'CDL3WHITESOLDIERS'] = (talib.CDL3WHITESOLDIERS(data['Open'], data['High'], data['Low'], data['Close']) > 50).astype(int)"
   ]
  },
  {
   "cell_type": "markdown",
   "id": "b8324ae6-9272-4ff7-b489-3ccab37217a7",
   "metadata": {},
   "source": [
    "Abandoned Baby"
   ]
  },
  {
   "cell_type": "code",
   "execution_count": 76,
   "id": "66bb15bc-7199-46d3-991c-cf09ce00bcc5",
   "metadata": {},
   "outputs": [],
   "source": [
    "data.loc[:, 'CDLABANDONEDBABY_BULL'] = (talib.CDLABANDONEDBABY(data['Open'], data['High'], data['Low'], data['Close']) > 50).astype(int)\n",
    "data.loc[:, 'CDLABANDONEDBABY_BEAR'] = (talib.CDLABANDONEDBABY(data['Open'], data['High'], data['Low'], data['Close']) < -50).astype(int)"
   ]
  },
  {
   "cell_type": "markdown",
   "id": "80b51204-f2bb-40d1-b265-74736b433994",
   "metadata": {},
   "source": [
    "Advance Block"
   ]
  },
  {
   "cell_type": "code",
   "execution_count": 77,
   "id": "48559147-382b-4176-bd2c-09efab781011",
   "metadata": {},
   "outputs": [],
   "source": [
    "data.loc[:, 'CDLADVANCEBLOCK'] = (talib.CDLADVANCEBLOCK(data['Open'], data['High'], data['Low'], data['Close']) < -50).astype(int)"
   ]
  },
  {
   "cell_type": "markdown",
   "id": "7be48971-0f99-4230-988e-c52a798bb1b8",
   "metadata": {},
   "source": [
    "Belt-hold"
   ]
  },
  {
   "cell_type": "code",
   "execution_count": 78,
   "id": "2fdf0166-0d35-4ddb-9331-3750441ff232",
   "metadata": {},
   "outputs": [],
   "source": [
    "data.loc[:, 'CDLBELTHOLD_BULL'] = (talib.CDLBELTHOLD(data['Open'], data['High'], data['Low'], data['Close']) > 50).astype(int)\n",
    "data.loc[:, 'CDLBELTHOLD_BEAR'] = (talib.CDLBELTHOLD(data['Open'], data['High'], data['Low'], data['Close']) < -50).astype(int)"
   ]
  },
  {
   "cell_type": "markdown",
   "id": "dc4821d6-91cb-4f07-9ea2-99e83e96bb54",
   "metadata": {},
   "source": [
    "Breakaway"
   ]
  },
  {
   "cell_type": "code",
   "execution_count": 79,
   "id": "f9f26977-beb7-4a2d-8362-21ac0132a6b0",
   "metadata": {},
   "outputs": [],
   "source": [
    "data.loc[:, 'CDLBREAKAWAY'] = (talib.CDLBREAKAWAY(data['Open'], data['High'], data['Low'], data['Close']) > 50).astype(int)"
   ]
  },
  {
   "cell_type": "markdown",
   "id": "416ab082-0a18-424c-829e-307a3b36b139",
   "metadata": {},
   "source": [
    "Closing Marubozu"
   ]
  },
  {
   "cell_type": "code",
   "execution_count": 80,
   "id": "abd04db9-3451-4ca1-9ad8-023d0b5cf0e7",
   "metadata": {},
   "outputs": [],
   "source": [
    "data.loc[:, 'CDLCLOSINGMARUBOZU_BULL'] = (talib.CDLCLOSINGMARUBOZU(data['Open'], data['High'], data['Low'], data['Close']) > 50).astype(int)\n",
    "data.loc[:, 'CDLCLOSINGMARUBOZU_BEAR'] = (talib.CDLCLOSINGMARUBOZU(data['Open'], data['High'], data['Low'], data['Close']) < -50).astype(int)"
   ]
  },
  {
   "cell_type": "markdown",
   "id": "5148ccc8-a27f-4333-9c5b-3f830b8be719",
   "metadata": {},
   "source": [
    "Concealing Baby Swallow"
   ]
  },
  {
   "cell_type": "code",
   "execution_count": 81,
   "id": "e4ac6c3d-eb96-4bf8-a2cd-9ab0eacb9949",
   "metadata": {},
   "outputs": [],
   "source": [
    "data.loc[:, 'CDLCONCEALBABYSWALL'] = (talib.CDLCONCEALBABYSWALL(data['Open'], data['High'], data['Low'], data['Close']) > 50).astype(int)"
   ]
  },
  {
   "cell_type": "markdown",
   "id": "c2e18ce4-2810-4fe2-bc0c-73ca3beca5f4",
   "metadata": {},
   "source": [
    "Counterattack"
   ]
  },
  {
   "cell_type": "code",
   "execution_count": 82,
   "id": "16225576-8b90-48a7-a261-46edd609c3d1",
   "metadata": {},
   "outputs": [],
   "source": [
    "data.loc[:, 'CDLCOUNTERATTACK_BULL'] = (talib.CDLCOUNTERATTACK(data['Open'], data['High'], data['Low'], data['Close']) > 50).astype(int)\n",
    "data.loc[:, 'CDLCOUNTERATTACK_BEAR'] = (talib.CDLCOUNTERATTACK(data['Open'], data['High'], data['Low'], data['Close']) < -50).astype(int)"
   ]
  },
  {
   "cell_type": "markdown",
   "id": "f20f3b0f-50ab-42ad-8584-d113381b2a8b",
   "metadata": {},
   "source": [
    "Dark Cloud Cover"
   ]
  },
  {
   "cell_type": "code",
   "execution_count": 83,
   "id": "6035c651-166f-4808-969c-5ea8aa23aef6",
   "metadata": {},
   "outputs": [],
   "source": [
    "data.loc[:, 'CDLDARKCLOUDCOVER'] = (talib.CDLDARKCLOUDCOVER(data['Open'], data['High'], data['Low'], data['Close']) < -50).astype(int)"
   ]
  },
  {
   "cell_type": "markdown",
   "id": "662de48d-fff4-4bf1-a9a8-166315bc4086",
   "metadata": {},
   "source": [
    "Doji"
   ]
  },
  {
   "cell_type": "code",
   "execution_count": 84,
   "id": "13bc5903-f783-4c0b-a9fa-800a5f3cae14",
   "metadata": {},
   "outputs": [],
   "source": [
    "data.loc[:, 'CDLDOJI'] = (talib.CDLDOJI(data['Open'], data['High'], data['Low'], data['Close']) > 50).astype(int)"
   ]
  },
  {
   "cell_type": "markdown",
   "id": "c2705086-bb61-4677-8d81-dbadab5a32f3",
   "metadata": {},
   "source": [
    "Doji Star"
   ]
  },
  {
   "cell_type": "code",
   "execution_count": 85,
   "id": "359974d3-aab1-481e-9b37-225d2dc2eb93",
   "metadata": {},
   "outputs": [],
   "source": [
    "data.loc[:, 'CDLDOJISTAR_BULL'] = (talib.CDLDOJISTAR(data['Open'], data['High'], data['Low'], data['Close']) > 50).astype(int)\n",
    "data.loc[:, 'CDLDOJISTAR_BEAR'] = (talib.CDLDOJISTAR(data['Open'], data['High'], data['Low'], data['Close']) < -50).astype(int)"
   ]
  },
  {
   "cell_type": "markdown",
   "id": "f7c28673-691f-4898-b8fd-848b49dbb4d4",
   "metadata": {},
   "source": [
    "Dragonfly Doji"
   ]
  },
  {
   "cell_type": "code",
   "execution_count": 86,
   "id": "3de15509-b820-4bdf-ad71-bdbc951b2a4e",
   "metadata": {},
   "outputs": [],
   "source": [
    "data.loc[:, 'CDLDRAGONFLYDOJI'] = (talib.CDLDRAGONFLYDOJI(data['Open'], data['High'], data['Low'], data['Close']) > 50).astype(int)"
   ]
  },
  {
   "cell_type": "markdown",
   "id": "08fd9832-6721-45b7-a30d-b13632692e19",
   "metadata": {},
   "source": [
    "Engulfing Pattern"
   ]
  },
  {
   "cell_type": "code",
   "execution_count": 87,
   "id": "e450ff55-2398-4bf9-84e3-4d81a72465d5",
   "metadata": {},
   "outputs": [],
   "source": [
    "data.loc[:, 'CDLENGULFING_BULL'] = (talib.CDLENGULFING(data['Open'], data['High'], data['Low'], data['Close']) > 50).astype(int)\n",
    "data.loc[:, 'CDLENGULFING_BEAR'] = (talib.CDLENGULFING(data['Open'], data['High'], data['Low'], data['Close']) < -50).astype(int)"
   ]
  },
  {
   "cell_type": "markdown",
   "id": "824df017-a251-4e48-8706-d42e4eb07a14",
   "metadata": {},
   "source": [
    "Evening Doji Star"
   ]
  },
  {
   "cell_type": "code",
   "execution_count": 88,
   "id": "9038cf4e-ab81-46a7-8bfd-854736c2d465",
   "metadata": {},
   "outputs": [],
   "source": [
    "data.loc[:, 'CDLEVENINGDOJISTAR'] = (talib.CDLEVENINGDOJISTAR(data['Open'], data['High'], data['Low'], data['Close']) < -50).astype(int)"
   ]
  },
  {
   "cell_type": "markdown",
   "id": "ea001d2c-fb30-44fe-bd30-4715cf1b5f2b",
   "metadata": {},
   "source": [
    "Evening Star"
   ]
  },
  {
   "cell_type": "code",
   "execution_count": 89,
   "id": "d2ddb699-8850-4364-8a26-2551831b801b",
   "metadata": {},
   "outputs": [],
   "source": [
    "data.loc[:, 'CDLEVENINGSTAR'] = (talib.CDLEVENINGSTAR(data['Open'], data['High'], data['Low'], data['Close']) < -50).astype(int)"
   ]
  },
  {
   "cell_type": "markdown",
   "id": "80cb68c3-c236-4712-b336-d2d91e94c794",
   "metadata": {},
   "source": [
    "Up/Down-gap side-by-side white lines"
   ]
  },
  {
   "cell_type": "code",
   "execution_count": 90,
   "id": "51714d88-c14a-4413-b98e-194cd9338245",
   "metadata": {},
   "outputs": [],
   "source": [
    "data.loc[:, 'CDLGAPSIDESIDEWHITE_BULL'] = (talib.CDLGAPSIDESIDEWHITE(data['Open'], data['High'], data['Low'], data['Close']) > 50).astype(int)\n",
    "data.loc[:, 'CDLGAPSIDESIDEWHITE_BEAR'] = (talib.CDLGAPSIDESIDEWHITE(data['Open'], data['High'], data['Low'], data['Close']) < -50).astype(int)"
   ]
  },
  {
   "cell_type": "markdown",
   "id": "ddf400f3-f210-45f1-8695-6276eba50648",
   "metadata": {},
   "source": [
    "Gravestone Doji"
   ]
  },
  {
   "cell_type": "code",
   "execution_count": 91,
   "id": "b9154baf-3049-4027-9622-c9b54104db41",
   "metadata": {},
   "outputs": [],
   "source": [
    "data.loc[:, 'CDLGRAVESTONEDOJI'] = (talib.CDLGRAVESTONEDOJI(data['Open'], data['High'], data['Low'], data['Close']) > 50).astype(int)"
   ]
  },
  {
   "cell_type": "markdown",
   "id": "ad12e0ea-a760-464a-8630-99b492f03e54",
   "metadata": {},
   "source": [
    "Hammer"
   ]
  },
  {
   "cell_type": "code",
   "execution_count": 92,
   "id": "6570f46f-a4d2-446a-824d-daa4a9ebebab",
   "metadata": {},
   "outputs": [],
   "source": [
    "data.loc[:, 'CDLHAMMER'] = (talib.CDLHAMMER(data['Open'], data['High'], data['Low'], data['Close']) > 50).astype(int)"
   ]
  },
  {
   "cell_type": "markdown",
   "id": "7485427a-5eec-472a-8cc5-cf4dd9e34fd9",
   "metadata": {},
   "source": [
    "Hanging Man"
   ]
  },
  {
   "cell_type": "code",
   "execution_count": 93,
   "id": "702da99b-cdd1-4858-b947-68b9a108274a",
   "metadata": {},
   "outputs": [],
   "source": [
    "data.loc[:, 'CDLHANGINGMAN'] = (talib.CDLHANGINGMAN(data['Open'], data['High'], data['Low'], data['Close']) < -50).astype(int)"
   ]
  },
  {
   "cell_type": "markdown",
   "id": "05862021-5623-42d1-b577-da13dc313066",
   "metadata": {},
   "source": [
    "Harami Pattern"
   ]
  },
  {
   "cell_type": "code",
   "execution_count": 94,
   "id": "499a9237-7640-42d9-b9f0-57d3a58dec1c",
   "metadata": {},
   "outputs": [],
   "source": [
    "data.loc[:, 'CDLHARAMI_BULL'] = (talib.CDLHARAMI(data['Open'], data['High'], data['Low'], data['Close']) > 50).astype(int)\n",
    "data.loc[:, 'CDLHARAMI_BEAR'] = (talib.CDLHARAMI(data['Open'], data['High'], data['Low'], data['Close']) < -50).astype(int)"
   ]
  },
  {
   "cell_type": "markdown",
   "id": "36be30c5-a8e5-4121-8cf4-ce3d31e0b53d",
   "metadata": {},
   "source": [
    "Harami Cross Pattern"
   ]
  },
  {
   "cell_type": "code",
   "execution_count": 95,
   "id": "f6da5bc5-f28c-479e-b257-555f47ccfdd8",
   "metadata": {},
   "outputs": [],
   "source": [
    "data.loc[:, 'CDLHARAMICROSS_BULL'] = (talib.CDLHARAMICROSS(data['Open'], data['High'], data['Low'], data['Close']) > 50).astype(int)\n",
    "data.loc[:, 'CDLHARAMICROSS_BEAR'] = (talib.CDLHARAMICROSS(data['Open'], data['High'], data['Low'], data['Close']) < -50).astype(int)"
   ]
  },
  {
   "cell_type": "markdown",
   "id": "67727cb0-a0ee-4d71-bb4c-cd7a5e8db07b",
   "metadata": {},
   "source": [
    "High-Wave Candle"
   ]
  },
  {
   "cell_type": "code",
   "execution_count": 96,
   "id": "65b06109-e1eb-45c8-8d60-05cc830080f2",
   "metadata": {},
   "outputs": [],
   "source": [
    "data.loc[:, 'CDLHIGHWAVE_BULL'] = (talib.CDLHIGHWAVE(data['Open'], data['High'], data['Low'], data['Close']) > 50).astype(int)\n",
    "data.loc[:, 'CDLHIGHWAVE_BEAR'] = (talib.CDLHIGHWAVE(data['Open'], data['High'], data['Low'], data['Close']) < -50).astype(int)"
   ]
  },
  {
   "cell_type": "markdown",
   "id": "512d6d6e-31c7-4172-9ff2-424f58c39fef",
   "metadata": {},
   "source": [
    "Hikkake Pattern"
   ]
  },
  {
   "cell_type": "code",
   "execution_count": 97,
   "id": "734a6b44-6377-42eb-ae14-83c7f598cab9",
   "metadata": {},
   "outputs": [],
   "source": [
    "hik = talib.CDLHIKKAKE(data['Open'], data['High'], data['Low'], data['Close'])\n",
    "data.loc[:, 'CDLHIKKAKE_BULL2'] = (hik > 150).astype(int)\n",
    "data.loc[:, 'CDLHIKKAKE_BULL'] = (hik == 100).astype(int)\n",
    "data.loc[:, 'CDLHIKKAKE_BEAR'] = (hik == -100).astype(int)\n",
    "data.loc[:, 'CDLHIKKAKE_BEAR2'] = (hik < -150).astype(int)"
   ]
  },
  {
   "cell_type": "markdown",
   "id": "13064e6a-7907-4ea3-851f-b27e8e48f423",
   "metadata": {},
   "source": [
    "Modified Hikkake Pattern"
   ]
  },
  {
   "cell_type": "code",
   "execution_count": 98,
   "id": "dc9711d3-bf68-44e1-92a9-9ca82980636d",
   "metadata": {},
   "outputs": [],
   "source": [
    "hik2 = talib.CDLHIKKAKEMOD(data['Open'], data['High'], data['Low'], data['Close'])\n",
    "data.loc[:, 'CDLHIKKAKEMOD_BULL2'] = (hik2 > 150).astype(int)\n",
    "data.loc[:, 'CDLHIKKAKEMOD_BULL'] = (hik2 == 100).astype(int)\n",
    "data.loc[:, 'CDLHIKKAKEMOD_BEAR'] = (hik2 == -100).astype(int)\n",
    "data.loc[:, 'CDLHIKKAKEMOD_BEAR2'] = (hik2 < -150).astype(int)"
   ]
  },
  {
   "cell_type": "markdown",
   "id": "0a333cf9-3900-4137-ba38-47a0223d5864",
   "metadata": {},
   "source": [
    "Homing Pigeon"
   ]
  },
  {
   "cell_type": "code",
   "execution_count": 99,
   "id": "e06617d1-5534-4ae8-ae5a-76a56f4c234f",
   "metadata": {},
   "outputs": [],
   "source": [
    "data.loc[:, 'CDLHOMINGPIGEON'] = (talib.CDLHOMINGPIGEON(data['Open'], data['High'], data['Low'], data['Close']) > 50).astype(int)"
   ]
  },
  {
   "cell_type": "markdown",
   "id": "9eb91e99-b2b0-4e5b-8180-42be99f3e154",
   "metadata": {},
   "source": [
    "Identical Three Crows"
   ]
  },
  {
   "cell_type": "code",
   "execution_count": 100,
   "id": "59449eef-309f-4a7b-a66c-761d9df8fbf5",
   "metadata": {},
   "outputs": [],
   "source": [
    "data.loc[:, 'CDLIDENTICAL3CROWS'] = (talib.CDLIDENTICAL3CROWS(data['Open'], data['High'], data['Low'], data['Close']) < -50).astype(int)"
   ]
  },
  {
   "cell_type": "markdown",
   "id": "2bbe95f6-94fb-4a60-9950-5a6a11cd9fa2",
   "metadata": {},
   "source": [
    "In-Neck Pattern"
   ]
  },
  {
   "cell_type": "code",
   "execution_count": 101,
   "id": "58830cc3-8e02-4925-905f-12167d23ef67",
   "metadata": {},
   "outputs": [],
   "source": [
    "data.loc[:, 'CDLINNECK'] = (talib.CDLINNECK(data['Open'], data['High'], data['Low'], data['Close']) < -50).astype(int)"
   ]
  },
  {
   "cell_type": "markdown",
   "id": "cb2348c7-1539-414d-aa97-5a274ef27ffc",
   "metadata": {},
   "source": [
    "Inverted Hammer"
   ]
  },
  {
   "cell_type": "code",
   "execution_count": 102,
   "id": "52258d19-ad59-4380-a7c6-1cabb8314e73",
   "metadata": {},
   "outputs": [],
   "source": [
    "data.loc[:, 'CDLINVERTEDHAMMER'] = (talib.CDLINVERTEDHAMMER(data['Open'], data['High'], data['Low'], data['Close']) > 50).astype(int)"
   ]
  },
  {
   "cell_type": "markdown",
   "id": "8a2b2ed5-4f02-427d-bb64-f8e5e17fcfe1",
   "metadata": {},
   "source": [
    "Kicking"
   ]
  },
  {
   "cell_type": "code",
   "execution_count": 103,
   "id": "44352459-df9a-486f-928a-2c142184182c",
   "metadata": {},
   "outputs": [],
   "source": [
    "data.loc[:, 'CDLKICKING_BULL'] = (talib.CDLKICKING(data['Open'], data['High'], data['Low'], data['Close']) > 50).astype(int)\n",
    "data.loc[:, 'CDLKICKING_BEAR'] = (talib.CDLKICKING(data['Open'], data['High'], data['Low'], data['Close']) < -50).astype(int)"
   ]
  },
  {
   "cell_type": "markdown",
   "id": "c648ade7-7dde-4dda-8fad-b38aff58e74f",
   "metadata": {},
   "source": [
    "Kicking - bull/bear determined by the longer marubozu"
   ]
  },
  {
   "cell_type": "code",
   "execution_count": 104,
   "id": "f33ae578-c261-46ba-8bcf-6995350f928e",
   "metadata": {},
   "outputs": [],
   "source": [
    "data.loc[:, 'CDLKICKINGBYLENGTH_BULL'] = (talib.CDLKICKINGBYLENGTH(data['Open'], data['High'], data['Low'], data['Close']) > 50).astype(int)\n",
    "data.loc[:, 'CDLKICKINGBYLENGTH_BEAR'] = (talib.CDLKICKINGBYLENGTH(data['Open'], data['High'], data['Low'], data['Close']) < -50).astype(int)"
   ]
  },
  {
   "cell_type": "markdown",
   "id": "90de97ec-a0af-4ef4-b04d-2ff3b0f2f1d2",
   "metadata": {},
   "source": [
    "Ladder Bottom"
   ]
  },
  {
   "cell_type": "code",
   "execution_count": 105,
   "id": "e9b8d20d-4218-4c55-a652-3f0109ac0627",
   "metadata": {},
   "outputs": [],
   "source": [
    "data.loc[:, 'CDLLADDERBOTTOM'] = (talib.CDLLADDERBOTTOM(data['Open'], data['High'], data['Low'], data['Close']) > 50).astype(int)"
   ]
  },
  {
   "cell_type": "markdown",
   "id": "ad261cc3-ea5c-4ee2-89c7-31ac2bc5c3cc",
   "metadata": {},
   "source": [
    "Long Legged Doji"
   ]
  },
  {
   "cell_type": "code",
   "execution_count": 106,
   "id": "1ce437d6-5be1-4947-b4c9-6a1f30f0318c",
   "metadata": {},
   "outputs": [],
   "source": [
    "data.loc[:, 'CDLLONGLEGGEDDOJI'] = (talib.CDLLONGLEGGEDDOJI(data['Open'], data['High'], data['Low'], data['Close']) > 50).astype(int)"
   ]
  },
  {
   "cell_type": "markdown",
   "id": "966e1634-0e15-49d5-93a4-08cb7153e3ec",
   "metadata": {},
   "source": [
    "Long Line Candle"
   ]
  },
  {
   "cell_type": "code",
   "execution_count": 107,
   "id": "72d71de6-503d-4dc4-a9c1-1b1999f5259d",
   "metadata": {},
   "outputs": [],
   "source": [
    "data.loc[:, 'CDLLONGLINE_BULL'] = (talib.CDLLONGLINE(data['Open'], data['High'], data['Low'], data['Close']) > 50).astype(int)\n",
    "data.loc[:, 'CDLLONGLINE_BEAR'] = (talib.CDLLONGLINE(data['Open'], data['High'], data['Low'], data['Close']) < -50).astype(int)"
   ]
  },
  {
   "cell_type": "markdown",
   "id": "181221df-8e47-4865-af26-1c761be424c2",
   "metadata": {},
   "source": [
    "Marubozu"
   ]
  },
  {
   "cell_type": "code",
   "execution_count": 108,
   "id": "9965ed60-fdf4-4dcd-af76-6cb104d60d4d",
   "metadata": {},
   "outputs": [],
   "source": [
    "data.loc[:, 'CDLMARUBOZU_BULL'] = (talib.CDLMARUBOZU(data['Open'], data['High'], data['Low'], data['Close']) > 50).astype(int)\n",
    "data.loc[:, 'CDLMARUBOZU_BEAR'] = (talib.CDLMARUBOZU(data['Open'], data['High'], data['Low'], data['Close']) < -50).astype(int)"
   ]
  },
  {
   "cell_type": "markdown",
   "id": "b3a3270d-bc6c-4ac9-b2d8-80e86b74fd69",
   "metadata": {},
   "source": [
    "Matching Low"
   ]
  },
  {
   "cell_type": "code",
   "execution_count": 109,
   "id": "ab3be821-2b15-4736-925f-17e89f0f7825",
   "metadata": {},
   "outputs": [],
   "source": [
    "data.loc[:, 'CDLMATCHINGLOW'] = (talib.CDLMATCHINGLOW(data['Open'], data['High'], data['Low'], data['Close']) > 50).astype(int)"
   ]
  },
  {
   "cell_type": "markdown",
   "id": "64df2489-9116-43a6-8466-1abc2715ef71",
   "metadata": {},
   "source": [
    "Mat Hold"
   ]
  },
  {
   "cell_type": "code",
   "execution_count": 110,
   "id": "a4e53155-8ed1-4f09-97a6-9a7194e9fdb6",
   "metadata": {},
   "outputs": [],
   "source": [
    "data.loc[:, 'CDLMATHOLD'] = talib.CDLMATHOLD(data['Open'], data['High'], data['Low'], data['Close'])"
   ]
  },
  {
   "cell_type": "markdown",
   "id": "4f00c4d3-bb76-41a3-9720-700cd6bbc078",
   "metadata": {},
   "source": [
    "Morning Doji Star"
   ]
  },
  {
   "cell_type": "code",
   "execution_count": 111,
   "id": "9b083f8c-bbcb-4ef0-b354-35bfbac10f20",
   "metadata": {},
   "outputs": [],
   "source": [
    "data.loc[:, 'CDLMORNINGDOJISTAR'] = (talib.CDLMORNINGDOJISTAR(data['Open'], data['High'], data['Low'], data['Close']) > 50).astype(int)"
   ]
  },
  {
   "cell_type": "markdown",
   "id": "1debe75d-4767-40ee-beb1-8f1014596a69",
   "metadata": {},
   "source": [
    "Morning Star"
   ]
  },
  {
   "cell_type": "code",
   "execution_count": 112,
   "id": "9a601edf-c917-44c2-9889-51ba4e85e049",
   "metadata": {},
   "outputs": [],
   "source": [
    "data.loc[:, 'CDLMORNINGSTAR'] = (talib.CDLMORNINGSTAR(data['Open'], data['High'], data['Low'], data['Close']) > 50).astype(int)"
   ]
  },
  {
   "cell_type": "markdown",
   "id": "3a2ed005-08df-4e88-948d-1c363775d1c2",
   "metadata": {},
   "source": [
    "On-Neck Pattern"
   ]
  },
  {
   "cell_type": "code",
   "execution_count": 113,
   "id": "6583d997-e88b-4e30-ac1e-a05877ea9f1a",
   "metadata": {},
   "outputs": [],
   "source": [
    "data.loc[:, 'CDLONNECK'] = (talib.CDLONNECK(data['Open'], data['High'], data['Low'], data['Close']) < -50).astype(int)"
   ]
  },
  {
   "cell_type": "markdown",
   "id": "2ec12ce5-7021-4783-a1d4-33803d38b3e3",
   "metadata": {},
   "source": [
    "Piercing Pattern"
   ]
  },
  {
   "cell_type": "code",
   "execution_count": 114,
   "id": "dd1b138d-4d10-4e3d-80e0-aa9ffd9f2ce1",
   "metadata": {},
   "outputs": [],
   "source": [
    "data.loc[:, 'CDLPIERCING'] = (talib.CDLPIERCING(data['Open'], data['High'], data['Low'], data['Close']) > 50).astype(int)"
   ]
  },
  {
   "cell_type": "markdown",
   "id": "4765e8e9-f36a-4496-ae76-5ad100a821a0",
   "metadata": {},
   "source": [
    "Rickshaw Man"
   ]
  },
  {
   "cell_type": "code",
   "execution_count": 115,
   "id": "9913410a-c09d-44b9-9f9c-5bf0c809f562",
   "metadata": {},
   "outputs": [],
   "source": [
    "data.loc[:, 'CDLRICKSHAWMAN'] = (talib.CDLRICKSHAWMAN(data['Open'], data['High'], data['Low'], data['Close']) > 50).astype(int)"
   ]
  },
  {
   "cell_type": "markdown",
   "id": "b59ddb16-65e9-443f-8561-b8c6288fabea",
   "metadata": {},
   "source": [
    "Rising/Falling Three Methods"
   ]
  },
  {
   "cell_type": "code",
   "execution_count": 116,
   "id": "72f803e1-cb57-4c7f-b810-5881307d2614",
   "metadata": {},
   "outputs": [],
   "source": [
    "data.loc[:, 'CDLRISEFALL3METHODS_BULL'] = (talib.CDLRISEFALL3METHODS(data['Open'], data['High'], data['Low'], data['Close']) > 50).astype(int)\n",
    "data.loc[:, 'CDLRISEFALL3METHODS_BEAR'] = (talib.CDLRISEFALL3METHODS(data['Open'], data['High'], data['Low'], data['Close']) < -50).astype(int)"
   ]
  },
  {
   "cell_type": "markdown",
   "id": "7a042839-217d-4a14-982e-54c74a83e18e",
   "metadata": {},
   "source": [
    "Separating Lines"
   ]
  },
  {
   "cell_type": "code",
   "execution_count": 117,
   "id": "5df2c4fe-3af5-4443-8bba-e94fa7a96257",
   "metadata": {},
   "outputs": [],
   "source": [
    "data.loc[:, 'CDLSEPARATINGLINES_BULL'] = (talib.CDLSEPARATINGLINES(data['Open'], data['High'], data['Low'], data['Close']) > 50).astype(int)\n",
    "data.loc[:, 'CDLSEPARATINGLINES_BEAR'] = (talib.CDLSEPARATINGLINES(data['Open'], data['High'], data['Low'], data['Close']) < -50).astype(int)"
   ]
  },
  {
   "cell_type": "markdown",
   "id": "95ec926b-597b-4618-b63a-d4e0adf78f20",
   "metadata": {},
   "source": [
    "Shooting Star"
   ]
  },
  {
   "cell_type": "code",
   "execution_count": 118,
   "id": "de36c9f3-6cb1-4bb6-8578-921873cdc3f6",
   "metadata": {},
   "outputs": [],
   "source": [
    "data.loc[:, 'CDLSHOOTINGSTAR'] = (talib.CDLSHOOTINGSTAR(data['Open'], data['High'], data['Low'], data['Close']) < -50).astype(int)"
   ]
  },
  {
   "cell_type": "markdown",
   "id": "c4c132ca-0d52-4fa3-b583-0210823f33b5",
   "metadata": {},
   "source": [
    "Short Line Candle"
   ]
  },
  {
   "cell_type": "code",
   "execution_count": 119,
   "id": "b4a9ba7e-8cd5-462c-a4cb-fd2ebcc50f3f",
   "metadata": {},
   "outputs": [],
   "source": [
    "data.loc[:, 'CDLSHORTLINE_BULL'] = (talib.CDLSHORTLINE(data['Open'], data['High'], data['Low'], data['Close']) > 50).astype(int)\n",
    "data.loc[:, 'CDLSHORTLINE_BEAR'] = (talib.CDLSHORTLINE(data['Open'], data['High'], data['Low'], data['Close']) < -50).astype(int)"
   ]
  },
  {
   "cell_type": "markdown",
   "id": "8031e3f8-2798-4e1e-a445-89048acdd2fa",
   "metadata": {},
   "source": [
    "Spinning Top"
   ]
  },
  {
   "cell_type": "code",
   "execution_count": 120,
   "id": "86d92f5b-ab64-46c1-be45-bf077cdc926b",
   "metadata": {},
   "outputs": [],
   "source": [
    "data.loc[:, 'CDLSPINNINGTOP_BULL'] = (talib.CDLSPINNINGTOP(data['Open'], data['High'], data['Low'], data['Close']) > 50).astype(int)\n",
    "data.loc[:, 'CDLSPINNINGTOP_BEAR'] = (talib.CDLSPINNINGTOP(data['Open'], data['High'], data['Low'], data['Close']) < -50).astype(int)"
   ]
  },
  {
   "cell_type": "markdown",
   "id": "8ca5ab5c-c5a1-4a36-9712-385272c3d2ca",
   "metadata": {},
   "source": [
    "Stalled Pattern"
   ]
  },
  {
   "cell_type": "code",
   "execution_count": 121,
   "id": "1ffbe7fa-4f96-4162-a481-804091c86a26",
   "metadata": {},
   "outputs": [],
   "source": [
    "data.loc[:, 'CDLSTALLEDPATTERN'] = (talib.CDLSTALLEDPATTERN(data['Open'], data['High'], data['Low'], data['Close']) < -50).astype(int)"
   ]
  },
  {
   "cell_type": "markdown",
   "id": "8b69a7c2-bb19-4392-a9c4-8272c919ccf5",
   "metadata": {},
   "source": [
    "Stick Sandwich"
   ]
  },
  {
   "cell_type": "code",
   "execution_count": 122,
   "id": "84bebb73-e6dc-4f92-a202-3210f5e3e1aa",
   "metadata": {},
   "outputs": [],
   "source": [
    "data.loc[:, 'CDLSTICKSANDWICH'] = (talib.CDLSTICKSANDWICH(data['Open'], data['High'], data['Low'], data['Close']) > 50).astype(int)"
   ]
  },
  {
   "cell_type": "markdown",
   "id": "986004d1-0116-4223-ad18-30aaf02942d4",
   "metadata": {},
   "source": [
    "Takuri"
   ]
  },
  {
   "cell_type": "code",
   "execution_count": 123,
   "id": "2c74dfa4-4319-4401-9a5b-eecc44ab5b88",
   "metadata": {},
   "outputs": [],
   "source": [
    "data.loc[:, 'CDLTAKURI'] = (talib.CDLTAKURI(data['Open'], data['High'], data['Low'], data['Close']) > 50).astype(int)"
   ]
  },
  {
   "cell_type": "markdown",
   "id": "7924f951-bfdd-4361-80dd-c86d5bcb799b",
   "metadata": {},
   "source": [
    "Tasuki Gap"
   ]
  },
  {
   "cell_type": "code",
   "execution_count": 124,
   "id": "f0f62010-0468-491c-86d9-e1b893dac796",
   "metadata": {},
   "outputs": [],
   "source": [
    "data.loc[:, 'CDLTASUKIGAP_BULL'] = (talib.CDLTASUKIGAP(data['Open'], data['High'], data['Low'], data['Close']) > 50).astype(int)\n",
    "data.loc[:, 'CDLTASUKIGAP_BEAR'] = (talib.CDLTASUKIGAP(data['Open'], data['High'], data['Low'], data['Close']) < -50).astype(int)"
   ]
  },
  {
   "cell_type": "markdown",
   "id": "ad372f5d-5259-4ff5-838d-fa5af4af9556",
   "metadata": {},
   "source": [
    "Thrusting Pattern"
   ]
  },
  {
   "cell_type": "code",
   "execution_count": 125,
   "id": "9d96fb0c-471d-4af0-8d7d-475c295356b4",
   "metadata": {},
   "outputs": [],
   "source": [
    "data.loc[:, 'CDLTHRUSTING'] = (talib.CDLTHRUSTING(data['Open'], data['High'], data['Low'], data['Close']) < -50).astype(int)"
   ]
  },
  {
   "cell_type": "markdown",
   "id": "8c72d286-21fb-49d3-9f96-62472440688e",
   "metadata": {},
   "source": [
    "Tristar Pattern"
   ]
  },
  {
   "cell_type": "code",
   "execution_count": 126,
   "id": "3e467a9a-7724-48dd-8a6a-454335b7ce58",
   "metadata": {},
   "outputs": [],
   "source": [
    "data.loc[:, 'CDLTRISTAR_BULL'] = (talib.CDLTRISTAR(data['Open'], data['High'], data['Low'], data['Close']) > 50).astype(int)\n",
    "data.loc[:, 'CDLTRISTAR_BEAR'] = (talib.CDLTRISTAR(data['Open'], data['High'], data['Low'], data['Close']) < -50).astype(int)"
   ]
  },
  {
   "cell_type": "markdown",
   "id": "882eedf2-6cba-49a7-a1eb-da1236b43ec4",
   "metadata": {},
   "source": [
    "Unique 3 River"
   ]
  },
  {
   "cell_type": "code",
   "execution_count": 127,
   "id": "8f61d317-d1df-4e25-b768-68868e0f1c21",
   "metadata": {},
   "outputs": [],
   "source": [
    "data.loc[:, 'CDLUNIQUE3RIVER'] = (talib.CDLUNIQUE3RIVER(data['Open'], data['High'], data['Low'], data['Close']) > 50).astype(int)"
   ]
  },
  {
   "cell_type": "markdown",
   "id": "d206cb4f-36f4-4c55-bbf0-91908c0e370e",
   "metadata": {},
   "source": [
    "Upside Gap Two Crows"
   ]
  },
  {
   "cell_type": "code",
   "execution_count": 128,
   "id": "06b2cc8c-440f-44d1-b21d-49fef1b25ae2",
   "metadata": {},
   "outputs": [],
   "source": [
    "data.loc[:, 'CDLUPSIDEGAP2CROWS'] = (talib.CDLUPSIDEGAP2CROWS(data['Open'], data['High'], data['Low'], data['Close']) < -50).astype(int)"
   ]
  },
  {
   "cell_type": "markdown",
   "id": "f9845551-534d-4fa0-b8d8-f5191e176013",
   "metadata": {},
   "source": [
    "Upside/Downside Gap Three Methods"
   ]
  },
  {
   "cell_type": "code",
   "execution_count": 129,
   "id": "c37318b6-d191-4dfb-b9cc-5896c0662d15",
   "metadata": {},
   "outputs": [],
   "source": [
    "data.loc[:, 'CDLXSIDEGAP3METHODS_BULL'] = (talib.CDLXSIDEGAP3METHODS(data['Open'], data['High'], data['Low'], data['Close']) > 50).astype(int)\n",
    "data.loc[:, 'CDLXSIDEGAP3METHODS_BEAR'] = (talib.CDLXSIDEGAP3METHODS(data['Open'], data['High'], data['Low'], data['Close']) < -50).astype(int)"
   ]
  },
  {
   "cell_type": "markdown",
   "id": "1f9cece1-4040-4c15-b08a-1755f68f2893",
   "metadata": {},
   "source": [
    "### Cycle Indicators"
   ]
  },
  {
   "cell_type": "markdown",
   "id": "2d80ec60-c7da-414f-8b78-f299ffe7b21c",
   "metadata": {},
   "source": [
    "Hilbert Transform - Dominant Cycle Period HT"
   ]
  },
  {
   "cell_type": "code",
   "execution_count": 130,
   "id": "349e90a0-04c9-4567-b191-6e922e61c093",
   "metadata": {},
   "outputs": [],
   "source": [
    "data.loc[:, 'HT_DCPERIOD'] = talib.HT_DCPERIOD(data['Close'])"
   ]
  },
  {
   "cell_type": "markdown",
   "id": "dd5f8b18-5da0-40bd-9df3-d411c4e1fa11",
   "metadata": {},
   "source": [
    "Hilbert Transform - Dominant Cycle Phase HT"
   ]
  },
  {
   "cell_type": "code",
   "execution_count": 131,
   "id": "f03e8632-1b6c-414e-9e82-175f5ca7b578",
   "metadata": {},
   "outputs": [],
   "source": [
    "data.loc[:, 'HT_DCPHASE'] = talib.HT_DCPHASE(data['Close'])"
   ]
  },
  {
   "cell_type": "markdown",
   "id": "07874d82-1e3d-490b-9180-0e646f9be545",
   "metadata": {},
   "source": [
    "Hilbert Transform - Trend vs Cycle Mode"
   ]
  },
  {
   "cell_type": "code",
   "execution_count": 132,
   "id": "c7bf5a6a-a036-45d7-aad4-70ac64e561d8",
   "metadata": {},
   "outputs": [],
   "source": [
    "data.loc[:, 'HT_TRENDMODE'] = talib.HT_TRENDMODE(data['Close'])"
   ]
  },
  {
   "cell_type": "markdown",
   "id": "c2613c23-0d26-4270-a337-d3f870a1c5e9",
   "metadata": {},
   "source": [
    "## Export Data"
   ]
  },
  {
   "cell_type": "code",
   "execution_count": 133,
   "id": "1e08c39c-8cd5-4602-a65c-f36c49eaf5b2",
   "metadata": {},
   "outputs": [],
   "source": [
    "data.to_csv('BTCUSD_TA.csv', index = False)"
   ]
  }
 ],
 "metadata": {
  "kernelspec": {
   "display_name": "Python 3 (ipykernel)",
   "language": "python",
   "name": "python3"
  },
  "language_info": {
   "codemirror_mode": {
    "name": "ipython",
    "version": 3
   },
   "file_extension": ".py",
   "mimetype": "text/x-python",
   "name": "python",
   "nbconvert_exporter": "python",
   "pygments_lexer": "ipython3",
   "version": "3.12.4"
  }
 },
 "nbformat": 4,
 "nbformat_minor": 5
}
